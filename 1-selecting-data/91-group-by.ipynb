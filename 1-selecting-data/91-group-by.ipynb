{
 "cells": [
  {
   "cell_type": "markdown",
   "metadata": {},
   "source": [
    "# Group By Reading"
   ]
  },
  {
   "cell_type": "markdown",
   "metadata": {},
   "source": [
    "### Introduction"
   ]
  },
  {
   "cell_type": "markdown",
   "metadata": {},
   "source": [
    "Over the past few lessons, we saw how to find statistics over an entire dataframe, or regarding a specific column.  In this lesson, we'll see how we can partition the data in a dataframe or a series with group by and pivot tables."
   ]
  },
  {
   "cell_type": "markdown",
   "metadata": {},
   "source": [
    "### Loading our Data"
   ]
  },
  {
   "cell_type": "code",
   "execution_count": 4,
   "metadata": {},
   "outputs": [],
   "source": [
    "import pandas as pd\n",
    "url = url = \"https://raw.githubusercontent.com/analytics-engineering-jigsaw/exploring-pandas/master/imdb_movies.csv\"\n",
    "df = pd.read_csv(url)"
   ]
  },
  {
   "cell_type": "code",
   "execution_count": 5,
   "metadata": {},
   "outputs": [
    {
     "data": {
      "text/html": [
       "<div>\n",
       "<style scoped>\n",
       "    .dataframe tbody tr th:only-of-type {\n",
       "        vertical-align: middle;\n",
       "    }\n",
       "\n",
       "    .dataframe tbody tr th {\n",
       "        vertical-align: top;\n",
       "    }\n",
       "\n",
       "    .dataframe thead th {\n",
       "        text-align: right;\n",
       "    }\n",
       "</style>\n",
       "<table border=\"1\" class=\"dataframe\">\n",
       "  <thead>\n",
       "    <tr style=\"text-align: right;\">\n",
       "      <th></th>\n",
       "      <th>title</th>\n",
       "      <th>genre</th>\n",
       "      <th>budget</th>\n",
       "      <th>runtime</th>\n",
       "      <th>year</th>\n",
       "      <th>month</th>\n",
       "      <th>revenue</th>\n",
       "    </tr>\n",
       "  </thead>\n",
       "  <tbody>\n",
       "    <tr>\n",
       "      <th>0</th>\n",
       "      <td>Avatar</td>\n",
       "      <td>Action</td>\n",
       "      <td>237000000</td>\n",
       "      <td>162.0</td>\n",
       "      <td>2009</td>\n",
       "      <td>12</td>\n",
       "      <td>2787965087</td>\n",
       "    </tr>\n",
       "    <tr>\n",
       "      <th>1</th>\n",
       "      <td>Pirates of the Caribbean: At World's End</td>\n",
       "      <td>Adventure</td>\n",
       "      <td>300000000</td>\n",
       "      <td>169.0</td>\n",
       "      <td>2007</td>\n",
       "      <td>5</td>\n",
       "      <td>961000000</td>\n",
       "    </tr>\n",
       "    <tr>\n",
       "      <th>2</th>\n",
       "      <td>Spectre</td>\n",
       "      <td>Action</td>\n",
       "      <td>245000000</td>\n",
       "      <td>148.0</td>\n",
       "      <td>2015</td>\n",
       "      <td>10</td>\n",
       "      <td>880674609</td>\n",
       "    </tr>\n",
       "    <tr>\n",
       "      <th>3</th>\n",
       "      <td>The Dark Knight Rises</td>\n",
       "      <td>Action</td>\n",
       "      <td>250000000</td>\n",
       "      <td>165.0</td>\n",
       "      <td>2012</td>\n",
       "      <td>7</td>\n",
       "      <td>1084939099</td>\n",
       "    </tr>\n",
       "    <tr>\n",
       "      <th>4</th>\n",
       "      <td>John Carter</td>\n",
       "      <td>Action</td>\n",
       "      <td>260000000</td>\n",
       "      <td>132.0</td>\n",
       "      <td>2012</td>\n",
       "      <td>3</td>\n",
       "      <td>284139100</td>\n",
       "    </tr>\n",
       "  </tbody>\n",
       "</table>\n",
       "</div>"
      ],
      "text/plain": [
       "                                      title      genre     budget  runtime  \\\n",
       "0                                    Avatar     Action  237000000    162.0   \n",
       "1  Pirates of the Caribbean: At World's End  Adventure  300000000    169.0   \n",
       "2                                   Spectre     Action  245000000    148.0   \n",
       "3                     The Dark Knight Rises     Action  250000000    165.0   \n",
       "4                               John Carter     Action  260000000    132.0   \n",
       "\n",
       "   year  month     revenue  \n",
       "0  2009     12  2787965087  \n",
       "1  2007      5   961000000  \n",
       "2  2015     10   880674609  \n",
       "3  2012      7  1084939099  \n",
       "4  2012      3   284139100  "
      ]
     },
     "execution_count": 5,
     "metadata": {},
     "output_type": "execute_result"
    }
   ],
   "source": [
    "df.head()"
   ]
  },
  {
   "cell_type": "markdown",
   "metadata": {},
   "source": [
    "### Exploring within Groups"
   ]
  },
  {
   "cell_type": "markdown",
   "metadata": {},
   "source": [
    "Group by works well with data that is either categorical in nature.  When we have data categorical in nature, we can imagine grouping that data by categories, and then finding the aggregate statistics, like the mean or the maximum.\n",
    "\n",
    "Here's how we can group our data by genre, and find the mean revenue across each genre."
   ]
  },
  {
   "cell_type": "code",
   "execution_count": 6,
   "metadata": {},
   "outputs": [
    {
     "name": "stderr",
     "output_type": "stream",
     "text": [
      "/var/folders/56/76xkbl_1039gpjh3w47v01980000gn/T/ipykernel_26058/2413418072.py:1: FutureWarning: The default value of numeric_only in DataFrameGroupBy.mean is deprecated. In a future version, numeric_only will default to False. Either specify numeric_only or select only columns which should be valid for the function.\n",
      "  df.groupby(['genre']).mean()\n"
     ]
    },
    {
     "data": {
      "text/html": [
       "<div>\n",
       "<style scoped>\n",
       "    .dataframe tbody tr th:only-of-type {\n",
       "        vertical-align: middle;\n",
       "    }\n",
       "\n",
       "    .dataframe tbody tr th {\n",
       "        vertical-align: top;\n",
       "    }\n",
       "\n",
       "    .dataframe thead th {\n",
       "        text-align: right;\n",
       "    }\n",
       "</style>\n",
       "<table border=\"1\" class=\"dataframe\">\n",
       "  <thead>\n",
       "    <tr style=\"text-align: right;\">\n",
       "      <th></th>\n",
       "      <th>budget</th>\n",
       "      <th>runtime</th>\n",
       "      <th>year</th>\n",
       "      <th>month</th>\n",
       "      <th>revenue</th>\n",
       "    </tr>\n",
       "    <tr>\n",
       "      <th>genre</th>\n",
       "      <th></th>\n",
       "      <th></th>\n",
       "      <th></th>\n",
       "      <th></th>\n",
       "      <th></th>\n",
       "    </tr>\n",
       "  </thead>\n",
       "  <tbody>\n",
       "    <tr>\n",
       "      <th>Action</th>\n",
       "      <td>6.994379e+07</td>\n",
       "      <td>113.028986</td>\n",
       "      <td>2004.532091</td>\n",
       "      <td>6.418219</td>\n",
       "      <td>1.803353e+08</td>\n",
       "    </tr>\n",
       "    <tr>\n",
       "      <th>Adventure</th>\n",
       "      <td>9.008632e+07</td>\n",
       "      <td>115.381356</td>\n",
       "      <td>2003.741525</td>\n",
       "      <td>7.203390</td>\n",
       "      <td>2.788796e+08</td>\n",
       "    </tr>\n",
       "    <tr>\n",
       "      <th>Animation</th>\n",
       "      <td>8.662127e+07</td>\n",
       "      <td>91.419355</td>\n",
       "      <td>2006.580645</td>\n",
       "      <td>7.021505</td>\n",
       "      <td>3.130796e+08</td>\n",
       "    </tr>\n",
       "    <tr>\n",
       "      <th>Comedy</th>\n",
       "      <td>4.175418e+07</td>\n",
       "      <td>105.245125</td>\n",
       "      <td>2005.144847</td>\n",
       "      <td>6.935933</td>\n",
       "      <td>1.069884e+08</td>\n",
       "    </tr>\n",
       "    <tr>\n",
       "      <th>Crime</th>\n",
       "      <td>4.443289e+07</td>\n",
       "      <td>120.000000</td>\n",
       "      <td>2004.644737</td>\n",
       "      <td>6.763158</td>\n",
       "      <td>9.344435e+07</td>\n",
       "    </tr>\n",
       "    <tr>\n",
       "      <th>Drama</th>\n",
       "      <td>4.497237e+07</td>\n",
       "      <td>126.775342</td>\n",
       "      <td>2003.084932</td>\n",
       "      <td>8.041096</td>\n",
       "      <td>1.038632e+08</td>\n",
       "    </tr>\n",
       "    <tr>\n",
       "      <th>Fantasy</th>\n",
       "      <td>7.210313e+07</td>\n",
       "      <td>106.662500</td>\n",
       "      <td>2004.987500</td>\n",
       "      <td>6.700000</td>\n",
       "      <td>1.894764e+08</td>\n",
       "    </tr>\n",
       "    <tr>\n",
       "      <th>Horror</th>\n",
       "      <td>3.481864e+07</td>\n",
       "      <td>101.203390</td>\n",
       "      <td>2002.237288</td>\n",
       "      <td>6.864407</td>\n",
       "      <td>8.491458e+07</td>\n",
       "    </tr>\n",
       "    <tr>\n",
       "      <th>Romance</th>\n",
       "      <td>4.363117e+07</td>\n",
       "      <td>110.725000</td>\n",
       "      <td>2006.225000</td>\n",
       "      <td>5.825000</td>\n",
       "      <td>1.124715e+08</td>\n",
       "    </tr>\n",
       "    <tr>\n",
       "      <th>Science Fiction</th>\n",
       "      <td>8.488846e+07</td>\n",
       "      <td>115.500000</td>\n",
       "      <td>2003.673077</td>\n",
       "      <td>7.115385</td>\n",
       "      <td>2.682699e+08</td>\n",
       "    </tr>\n",
       "    <tr>\n",
       "      <th>Thriller</th>\n",
       "      <td>5.387671e+07</td>\n",
       "      <td>116.219178</td>\n",
       "      <td>2006.835616</td>\n",
       "      <td>6.904110</td>\n",
       "      <td>1.332438e+08</td>\n",
       "    </tr>\n",
       "  </tbody>\n",
       "</table>\n",
       "</div>"
      ],
      "text/plain": [
       "                       budget     runtime         year     month       revenue\n",
       "genre                                                                         \n",
       "Action           6.994379e+07  113.028986  2004.532091  6.418219  1.803353e+08\n",
       "Adventure        9.008632e+07  115.381356  2003.741525  7.203390  2.788796e+08\n",
       "Animation        8.662127e+07   91.419355  2006.580645  7.021505  3.130796e+08\n",
       "Comedy           4.175418e+07  105.245125  2005.144847  6.935933  1.069884e+08\n",
       "Crime            4.443289e+07  120.000000  2004.644737  6.763158  9.344435e+07\n",
       "Drama            4.497237e+07  126.775342  2003.084932  8.041096  1.038632e+08\n",
       "Fantasy          7.210313e+07  106.662500  2004.987500  6.700000  1.894764e+08\n",
       "Horror           3.481864e+07  101.203390  2002.237288  6.864407  8.491458e+07\n",
       "Romance          4.363117e+07  110.725000  2006.225000  5.825000  1.124715e+08\n",
       "Science Fiction  8.488846e+07  115.500000  2003.673077  7.115385  2.682699e+08\n",
       "Thriller         5.387671e+07  116.219178  2006.835616  6.904110  1.332438e+08"
      ]
     },
     "execution_count": 6,
     "metadata": {},
     "output_type": "execute_result"
    }
   ],
   "source": [
    "df.groupby(['genre']).mean()"
   ]
  },
  {
   "cell_type": "markdown",
   "metadata": {},
   "source": [
    "> We can get rid of scientific notation with the following."
   ]
  },
  {
   "cell_type": "code",
   "execution_count": 7,
   "metadata": {},
   "outputs": [],
   "source": [
    "pd.options.display.float_format = '{:.2f}'.format"
   ]
  },
  {
   "cell_type": "markdown",
   "metadata": {},
   "source": [
    "Notice that group by returns to us a dataframe for each of the numeric columns."
   ]
  },
  {
   "cell_type": "code",
   "execution_count": 8,
   "metadata": {},
   "outputs": [
    {
     "data": {
      "text/plain": [
       "Index(['title', 'genre', 'budget', 'runtime', 'year', 'month', 'revenue'], dtype='object')"
      ]
     },
     "execution_count": 8,
     "metadata": {},
     "output_type": "execute_result"
    }
   ],
   "source": [
    "df.columns"
   ]
  },
  {
   "cell_type": "markdown",
   "metadata": {},
   "source": [
    "We can then scope down that data to just select the revenue."
   ]
  },
  {
   "cell_type": "code",
   "execution_count": 10,
   "metadata": {},
   "outputs": [
    {
     "name": "stderr",
     "output_type": "stream",
     "text": [
      "/var/folders/56/76xkbl_1039gpjh3w47v01980000gn/T/ipykernel_26058/3522778579.py:1: FutureWarning: The default value of numeric_only in DataFrameGroupBy.mean is deprecated. In a future version, numeric_only will default to False. Either specify numeric_only or select only columns which should be valid for the function.\n",
      "  df.groupby(['genre']).mean()['revenue'].sort_values()\n"
     ]
    },
    {
     "data": {
      "text/plain": [
       "genre\n",
       "Horror             84914577.80\n",
       "Crime              93444346.83\n",
       "Drama             103863203.52\n",
       "Comedy            106988371.80\n",
       "Romance           112471529.00\n",
       "Thriller          133243758.53\n",
       "Action            180335309.49\n",
       "Fantasy           189476384.70\n",
       "Science Fiction   268269924.02\n",
       "Adventure         278879626.06\n",
       "Animation         313079586.00\n",
       "Name: revenue, dtype: float64"
      ]
     },
     "execution_count": 10,
     "metadata": {},
     "output_type": "execute_result"
    }
   ],
   "source": [
    "df.groupby(['genre']).mean()['revenue'].sort_values()"
   ]
  },
  {
   "cell_type": "markdown",
   "metadata": {},
   "source": [
    "And then plot this, from there."
   ]
  },
  {
   "cell_type": "code",
   "execution_count": 12,
   "metadata": {},
   "outputs": [
    {
     "name": "stderr",
     "output_type": "stream",
     "text": [
      "/var/folders/56/76xkbl_1039gpjh3w47v01980000gn/T/ipykernel_26058/3710119492.py:1: FutureWarning: The default value of numeric_only in DataFrameGroupBy.mean is deprecated. In a future version, numeric_only will default to False. Either specify numeric_only or select only columns which should be valid for the function.\n",
      "  ax = df.groupby(['genre']).mean()['revenue'].sort_values().plot(kind = 'barh')\n",
      "/var/folders/56/76xkbl_1039gpjh3w47v01980000gn/T/ipykernel_26058/3710119492.py:2: UserWarning: FixedFormatter should only be used together with FixedLocator\n",
      "  ax.set(title = 'Avg Revenue by Genre',\n"
     ]
    },
    {
     "name": "stdout",
     "output_type": "stream",
     "text": [
      "none\n"
     ]
    },
    {
     "data": {
      "image/png": "[encoded data removed]",
      "text/plain": [
       "<Figure size 640x480 with 1 Axes>"
      ]
     },
     "metadata": {},
     "output_type": "display_data"
    }
   ],
   "source": [
    "ax = df.groupby(['genre']).mean()['revenue'].sort_values().plot(kind = 'barh')\n",
    "ax.set(title = 'Avg Revenue by Genre', \n",
    "       xlabel = 'average revenue (m)',\n",
    "       xticklabels = list(range(0, 310, 50)))\n",
    "print('none')"
   ]
  },
  {
   "cell_type": "markdown",
   "metadata": {},
   "source": [
    "### Grouping by Multiple Values"
   ]
  },
  {
   "cell_type": "markdown",
   "metadata": {},
   "source": [
    "Now let's say that we wanted to group our data by genre and year.  We can do so with the following."
   ]
  },
  {
   "cell_type": "code",
   "execution_count": 60,
   "metadata": {},
   "outputs": [
    {
     "data": {
      "text/html": [
       "<div>\n",
       "<style scoped>\n",
       "    .dataframe tbody tr th:only-of-type {\n",
       "        vertical-align: middle;\n",
       "    }\n",
       "\n",
       "    .dataframe tbody tr th {\n",
       "        vertical-align: top;\n",
       "    }\n",
       "\n",
       "    .dataframe thead th {\n",
       "        text-align: right;\n",
       "    }\n",
       "</style>\n",
       "<table border=\"1\" class=\"dataframe\">\n",
       "  <thead>\n",
       "    <tr style=\"text-align: right;\">\n",
       "      <th></th>\n",
       "      <th></th>\n",
       "      <th>budget</th>\n",
       "      <th>runtime</th>\n",
       "      <th>month</th>\n",
       "      <th>revenue</th>\n",
       "    </tr>\n",
       "    <tr>\n",
       "      <th>genre</th>\n",
       "      <th>year</th>\n",
       "      <th></th>\n",
       "      <th></th>\n",
       "      <th></th>\n",
       "      <th></th>\n",
       "    </tr>\n",
       "  </thead>\n",
       "  <tbody>\n",
       "    <tr>\n",
       "      <th rowspan=\"3\" valign=\"top\">Action</th>\n",
       "      <th>1978</th>\n",
       "      <td>5.500000e+07</td>\n",
       "      <td>143.000000</td>\n",
       "      <td>12.0</td>\n",
       "      <td>300218018.0</td>\n",
       "    </tr>\n",
       "    <tr>\n",
       "      <th>1979</th>\n",
       "      <td>3.450000e+07</td>\n",
       "      <td>119.500000</td>\n",
       "      <td>9.0</td>\n",
       "      <td>121031920.5</td>\n",
       "    </tr>\n",
       "    <tr>\n",
       "      <th>1980</th>\n",
       "      <td>3.266667e+07</td>\n",
       "      <td>153.666667</td>\n",
       "      <td>8.0</td>\n",
       "      <td>64647679.0</td>\n",
       "    </tr>\n",
       "  </tbody>\n",
       "</table>\n",
       "</div>"
      ],
      "text/plain": [
       "                   budget     runtime  month      revenue\n",
       "genre  year                                              \n",
       "Action 1978  5.500000e+07  143.000000   12.0  300218018.0\n",
       "       1979  3.450000e+07  119.500000    9.0  121031920.5\n",
       "       1980  3.266667e+07  153.666667    8.0   64647679.0"
      ]
     },
     "execution_count": 60,
     "metadata": {},
     "output_type": "execute_result"
    }
   ],
   "source": [
    "df.groupby(['genre', 'year']).mean()[:3]"
   ]
  },
  {
   "cell_type": "markdown",
   "metadata": {},
   "source": [
    "Notice that this returns to us a dataframe that has two indices.  The outer one is genre, and then the inner is by year."
   ]
  },
  {
   "cell_type": "code",
   "execution_count": 68,
   "metadata": {},
   "outputs": [
    {
     "data": {
      "text/plain": [
       "array([<matplotlib.axes._subplots.AxesSubplot object at 0x1219e54d0>],\n",
       "      dtype=object)"
      ]
     },
     "execution_count": 68,
     "metadata": {},
     "output_type": "execute_result"
    },
    {
     "data": {
      "image/png": "[encoded data removed]",
      "text/plain": [
       "<Figure size 432x288 with 1 Axes>"
      ]
     },
     "metadata": {
      "needs_background": "light"
     },
     "output_type": "display_data"
    }
   ],
   "source": [
    "df[df['year'] > 2013 ].groupby(['genre', 'year']).count()['title'].plot.bar()"
   ]
  },
  {
   "cell_type": "markdown",
   "metadata": {},
   "source": [
    "So in the data set above, we can see a downward trend in the amount of most of the categories, although action movies appear to have been the smallest downturn."
   ]
  },
  {
   "cell_type": "markdown",
   "metadata": {},
   "source": [
    "### Summary"
   ]
  },
  {
   "cell_type": "markdown",
   "metadata": {},
   "source": [
    "In this lesson we saw how to both perform aggregate queries and then plot this information.  We started with using group by which gives us aggregate statistics across multiple columns."
   ]
  }
 ],
 "metadata": {
  "kernelspec": {
   "display_name": "Python 3 (ipykernel)",
   "language": "python",
   "name": "python3"
  },
  "language_info": {
   "codemirror_mode": {
    "name": "ipython",
    "version": 3
   },
   "file_extension": ".py",
   "mimetype": "text/x-python",
   "name": "python",
   "nbconvert_exporter": "python",
   "pygments_lexer": "ipython3",
   "version": "3.9.12"
  }
 },
 "nbformat": 4,
 "nbformat_minor": 4
}
