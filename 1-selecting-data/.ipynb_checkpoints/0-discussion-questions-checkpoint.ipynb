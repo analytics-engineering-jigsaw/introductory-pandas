{
 "cells": [
  {
   "cell_type": "markdown",
   "metadata": {},
   "source": [
    "# Discussion Questions"
   ]
  },
  {
   "cell_type": "markdown",
   "metadata": {},
   "source": [
    "### Introduction"
   ]
  },
  {
   "cell_type": "markdown",
   "metadata": {},
   "source": [
    "To get warmed up, let's rap lyrics about US candidates."
   ]
  },
  {
   "cell_type": "code",
   "execution_count": 32,
   "metadata": {},
   "outputs": [],
   "source": [
    "url = \"https://raw.githubusercontent.com/datasets/five-thirty-eight-datasets/master/datasets/drug-use-by-age/data/drug-use-by-age.csv\""
   ]
  },
  {
   "cell_type": "code",
   "execution_count": 33,
   "metadata": {},
   "outputs": [],
   "source": [
    "import pandas as pd \n",
    "df = pd.read_csv(url)"
   ]
  },
  {
   "cell_type": "code",
   "execution_count": 34,
   "metadata": {},
   "outputs": [
    {
     "data": {
      "text/plain": [
       "Index(['age', 'n', 'alcohol-use', 'alcohol-frequency', 'marijuana-use',\n",
       "       'marijuana-frequency', 'cocaine-use', 'cocaine-frequency', 'crack-use',\n",
       "       'crack-frequency', 'heroin-use', 'heroin-frequency', 'hallucinogen-use',\n",
       "       'hallucinogen-frequency', 'inhalant-use', 'inhalant-frequency',\n",
       "       'pain-releiver-use', 'pain-releiver-frequency', 'oxycontin-use',\n",
       "       'oxycontin-frequency', 'tranquilizer-use', 'tranquilizer-frequency',\n",
       "       'stimulant-use', 'stimulant-frequency', 'meth-use', 'meth-frequency',\n",
       "       'sedative-use', 'sedative-frequency'],\n",
       "      dtype='object')"
      ]
     },
     "execution_count": 34,
     "metadata": {},
     "output_type": "execute_result"
    }
   ],
   "source": [
    "df.columns"
   ]
  },
  {
   "cell_type": "code",
   "execution_count": 36,
   "metadata": {},
   "outputs": [],
   "source": [
    "druguse_by_age =  df.to_numpy()"
   ]
  },
  {
   "cell_type": "markdown",
   "metadata": {},
   "source": [
    "### Plot this by age"
   ]
  },
  {
   "cell_type": "markdown",
   "metadata": {},
   "source": [
    "1. Sort the rows of numpy data by marijuana use "
   ]
  },
  {
   "cell_type": "markdown",
   "metadata": {},
   "source": [
    "2. Create a plot illustrating marijuana use by age\n",
    "    * Make sure the plot is large enough so that labels are not squished\n",
    "    * Set a title that says 'marijuana use by age'"
   ]
  },
  {
   "cell_type": "code",
   "execution_count": null,
   "metadata": {},
   "outputs": [],
   "source": []
  },
  {
   "cell_type": "markdown",
   "metadata": {},
   "source": [
    "<img src=\"./marijuana-plot.png\">"
   ]
  },
  {
   "cell_type": "code",
   "execution_count": null,
   "metadata": {},
   "outputs": [],
   "source": []
  }
 ],
 "metadata": {
  "kernelspec": {
   "display_name": "Python 3",
   "language": "python",
   "name": "python3"
  },
  "language_info": {
   "codemirror_mode": {
    "name": "ipython",
    "version": 3
   },
   "file_extension": ".py",
   "mimetype": "text/x-python",
   "name": "python",
   "nbconvert_exporter": "python",
   "pygments_lexer": "ipython3",
   "version": "3.7.4"
  }
 },
 "nbformat": 4,
 "nbformat_minor": 4
}
