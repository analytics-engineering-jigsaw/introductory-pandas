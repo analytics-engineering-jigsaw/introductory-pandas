{
 "cells": [
  {
   "cell_type": "markdown",
   "metadata": {},
   "source": [
    "# Replacing Data: Missing Data And Map"
   ]
  },
  {
   "cell_type": "markdown",
   "metadata": {},
   "source": [
    "### Introduction"
   ]
  },
  {
   "cell_type": "markdown",
   "metadata": {},
   "source": [
    "In our last lab, we were able to gather data from a our CSV file and coerce much of our data into numbers to ultimately use this data to train a machine learning model.  There are a couple of places where we were stuck.  In this lesson, we'll learn how to finish cleaning our data by working with missing values, and working with the map method."
   ]
  },
  {
   "cell_type": "markdown",
   "metadata": {},
   "source": [
    "### Our SAT Data - Not as Clean as We Thought :("
   ]
  },
  {
   "cell_type": "markdown",
   "metadata": {},
   "source": [
    "Let's take another look at our SAT data from the last lab."
   ]
  },
  {
   "cell_type": "code",
   "execution_count": 2,
   "metadata": {},
   "outputs": [],
   "source": [
    "import pandas as pd\n",
    "sat_df = pd.read_csv('./nyc_hs_sat.csv', index_col = 0)"
   ]
  },
  {
   "cell_type": "code",
   "execution_count": 3,
   "metadata": {},
   "outputs": [
    {
     "data": {
      "text/plain": [
       "dbn                     object\n",
       "name                    object\n",
       "num_test_takers        float64\n",
       "reading_avg            float64\n",
       "math_avg               float64\n",
       "writing_score          float64\n",
       "boro                    object\n",
       "total_students           int64\n",
       "graduation_rate        float64\n",
       "attendance_rate        float64\n",
       "college_career_rate    float64\n",
       "dtype: object"
      ]
     },
     "execution_count": 3,
     "metadata": {},
     "output_type": "execute_result"
    }
   ],
   "source": [
    "sat_df.dtypes"
   ]
  },
  {
   "cell_type": "markdown",
   "metadata": {},
   "source": [
    "Looking at the above data, it appears that we have a good number of features to predict our target of `math_avg` for a school, and we would like to begin training our model.  Let's try it.  We select our target column and our feature columns."
   ]
  },
  {
   "cell_type": "code",
   "execution_count": 8,
   "metadata": {},
   "outputs": [],
   "source": [
    "y = sat_df.math_avg"
   ]
  },
  {
   "cell_type": "code",
   "execution_count": 9,
   "metadata": {},
   "outputs": [
    {
     "data": {
      "text/plain": [
       "Index(['num_test_takers', 'reading_avg', 'writing_score', 'total_students',\n",
       "       'graduation_rate', 'attendance_rate', 'college_career_rate'],\n",
       "      dtype='object')"
      ]
     },
     "execution_count": 9,
     "metadata": {},
     "output_type": "execute_result"
    }
   ],
   "source": [
    "X = sat_df.select_dtypes(exclude = ['object']).drop(columns = ['math_avg'])\n",
    "X.columns"
   ]
  },
  {
   "cell_type": "markdown",
   "metadata": {},
   "source": [
    "Ok, so we have our target of `y` assigned to be our `math_avg`, and as features we have the columns listed above, all of which are numeric.  If we try our model we will get the following error."
   ]
  },
  {
   "cell_type": "code",
   "execution_count": 12,
   "metadata": {},
   "outputs": [],
   "source": [
    "# from sklearn.tree import DecisionTreeRegressor\n",
    "\n",
    "# model = DecisionTreeRegressor()\n",
    "# model.fit(X, y)"
   ]
  },
  {
   "cell_type": "markdown",
   "metadata": {},
   "source": [
    "**Input contains NaN, infinity or a value too large for dtype('float32')**"
   ]
  },
  {
   "cell_type": "markdown",
   "metadata": {},
   "source": [
    "The problem is that our dataset has missing values, which does not count as a number.  Let's identify where our missing values are located, and then we can discuss how to deal with them."
   ]
  },
  {
   "cell_type": "markdown",
   "metadata": {},
   "source": [
    "### Working with Missing Values"
   ]
  },
  {
   "cell_type": "markdown",
   "metadata": {},
   "source": [
    "Missing values (if we're lucky) are generally identified with the value `na` which stands for not available.  We can identify the number of missing values in each column with the following line of code."
   ]
  },
  {
   "cell_type": "code",
   "execution_count": 13,
   "metadata": {},
   "outputs": [
    {
     "data": {
      "text/plain": [
       "dbn                     0\n",
       "name                    0\n",
       "num_test_takers        29\n",
       "reading_avg            29\n",
       "math_avg               29\n",
       "writing_score          29\n",
       "boro                    0\n",
       "total_students          0\n",
       "graduation_rate         5\n",
       "attendance_rate         0\n",
       "college_career_rate     5\n",
       "dtype: int64"
      ]
     },
     "execution_count": 13,
     "metadata": {},
     "output_type": "execute_result"
    }
   ],
   "source": [
    "sat_df.isna().sum()"
   ]
  },
  {
   "cell_type": "markdown",
   "metadata": {},
   "source": [
    "Now we can see that `29` a number of columns have missing values -- and we will have to eliminate this `na` data before training our model.  What to do with missing values warrants a longer discussion, but for now, we can simply drop the rows that contain missing values.  Here's how."
   ]
  },
  {
   "cell_type": "code",
   "execution_count": 14,
   "metadata": {},
   "outputs": [],
   "source": [
    "dropped_sat_df = sat_df.dropna()"
   ]
  },
  {
   "cell_type": "markdown",
   "metadata": {},
   "source": [
    "> The method `dropna` returns a new, updated, dataframe so be sure to store this new dataframe in a variable."
   ]
  },
  {
   "cell_type": "markdown",
   "metadata": {},
   "source": [
    "And now we can see that none of the columns have `na` values."
   ]
  },
  {
   "cell_type": "code",
   "execution_count": 15,
   "metadata": {},
   "outputs": [
    {
     "data": {
      "text/plain": [
       "dbn                    0\n",
       "name                   0\n",
       "num_test_takers        0\n",
       "reading_avg            0\n",
       "math_avg               0\n",
       "writing_score          0\n",
       "boro                   0\n",
       "total_students         0\n",
       "graduation_rate        0\n",
       "attendance_rate        0\n",
       "college_career_rate    0\n",
       "dtype: int64"
      ]
     },
     "execution_count": 15,
     "metadata": {},
     "output_type": "execute_result"
    }
   ],
   "source": [
    "dropped_sat_df.isna().sum()"
   ]
  },
  {
   "cell_type": "markdown",
   "metadata": {},
   "source": [
    "And now we can successfully train our model."
   ]
  },
  {
   "cell_type": "code",
   "execution_count": 16,
   "metadata": {},
   "outputs": [],
   "source": [
    "X = dropped_sat_df.select_dtypes(exclude = ['object']).drop(columns = ['math_avg'])\n",
    "X.columns\n",
    "\n",
    "y = dropped_sat_df.math_avg"
   ]
  },
  {
   "cell_type": "code",
   "execution_count": 17,
   "metadata": {},
   "outputs": [
    {
     "data": {
      "text/plain": [
       "DecisionTreeRegressor(criterion='mse', max_depth=None, max_features=None,\n",
       "                      max_leaf_nodes=None, min_impurity_decrease=0.0,\n",
       "                      min_impurity_split=None, min_samples_leaf=1,\n",
       "                      min_samples_split=2, min_weight_fraction_leaf=0.0,\n",
       "                      presort=False, random_state=None, splitter='best')"
      ]
     },
     "execution_count": 17,
     "metadata": {},
     "output_type": "execute_result"
    }
   ],
   "source": [
    "from sklearn.tree import DecisionTreeRegressor\n",
    "\n",
    "model = DecisionTreeRegressor()\n",
    "model.fit(X, y)"
   ]
  },
  {
   "cell_type": "markdown",
   "metadata": {},
   "source": [
    "Woohoo!  If no one is looking, do a little shake."
   ]
  },
  {
   "cell_type": "markdown",
   "metadata": {},
   "source": [
    "### Summary"
   ]
  },
  {
   "cell_type": "markdown",
   "metadata": {},
   "source": [
    "In this lesson, we saw that all of our machine learning model data being numeric means that we must not have any `na` values in our training data.  We can discover how many `na` values are in each column with the line:\n",
    "\n",
    "```python\n",
    "df.isna().sum()\n",
    "```\n",
    "\n",
    "And we can drop our those rows with missing data in a column with the line:\n",
    "\n",
    "`dropped_df = df.dropna()`"
   ]
  }
 ],
 "metadata": {
  "kernelspec": {
   "display_name": "Python 3",
   "language": "python",
   "name": "python3"
  },
  "language_info": {
   "codemirror_mode": {
    "name": "ipython",
    "version": 3
   },
   "file_extension": ".py",
   "mimetype": "text/x-python",
   "name": "python",
   "nbconvert_exporter": "python",
   "pygments_lexer": "ipython3",
   "version": "3.7.4"
  }
 },
 "nbformat": 4,
 "nbformat_minor": 4
}
