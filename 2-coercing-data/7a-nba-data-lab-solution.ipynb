{
 "cells": [
  {
   "cell_type": "markdown",
   "metadata": {},
   "source": [
    "# NBA Data Lab"
   ]
  },
  {
   "cell_type": "markdown",
   "metadata": {},
   "source": [
    "### Introduction"
   ]
  },
  {
   "cell_type": "markdown",
   "metadata": {},
   "source": [
    "In this lesson, we'll use our knowledge of pandas to coerce data originally drawn from the [sports reference package](https://sportsreference.readthedocs.io/en/stable/)."
   ]
  },
  {
   "cell_type": "markdown",
   "metadata": {},
   "source": [
    "### Loading the data"
   ]
  },
  {
   "cell_type": "code",
   "execution_count": 71,
   "metadata": {},
   "outputs": [],
   "source": [
    "import pandas as pd\n",
    "url = \"https://raw.githubusercontent.com/jigsawlabs-student/introductory-pandas/master/2-coercing-data/nba_players.csv?token=ANKFJMFY7KDGORDKHUCCMUK6QVGFA\"\n",
    "df = pd.read_csv(url, index_col = 0)"
   ]
  },
  {
   "cell_type": "code",
   "execution_count": 72,
   "metadata": {},
   "outputs": [
    {
     "data": {
      "text/html": [
       "<div>\n",
       "<style scoped>\n",
       "    .dataframe tbody tr th:only-of-type {\n",
       "        vertical-align: middle;\n",
       "    }\n",
       "\n",
       "    .dataframe tbody tr th {\n",
       "        vertical-align: top;\n",
       "    }\n",
       "\n",
       "    .dataframe thead th {\n",
       "        text-align: right;\n",
       "    }\n",
       "</style>\n",
       "<table border=\"1\" class=\"dataframe\">\n",
       "  <thead>\n",
       "    <tr style=\"text-align: right;\">\n",
       "      <th></th>\n",
       "      <th>player_id</th>\n",
       "      <th>name</th>\n",
       "      <th>weight</th>\n",
       "      <th>birth_date</th>\n",
       "      <th>height</th>\n",
       "      <th>nationality</th>\n",
       "      <th>team_abbreviation</th>\n",
       "      <th>most_recent_season</th>\n",
       "      <th>box_plus_minus</th>\n",
       "      <th>games_played</th>\n",
       "      <th>games_started</th>\n",
       "      <th>player_efficiency_rating</th>\n",
       "      <th>three_point_percentage</th>\n",
       "      <th>true_shooting_percentage</th>\n",
       "      <th>two_point_attempts</th>\n",
       "      <th>two_point_percentage</th>\n",
       "      <th>two_pointers</th>\n",
       "    </tr>\n",
       "  </thead>\n",
       "  <tbody>\n",
       "    <tr>\n",
       "      <th>0</th>\n",
       "      <td>klebima01</td>\n",
       "      <td>Maxi Kleber</td>\n",
       "      <td>240lb</td>\n",
       "      <td>1992-01-29</td>\n",
       "      <td>6-10</td>\n",
       "      <td>Germany</td>\n",
       "      <td>DAL</td>\n",
       "      <td>2018-19</td>\n",
       "      <td>0.3</td>\n",
       "      <td>209.0</td>\n",
       "      <td>75.0</td>\n",
       "      <td>13.4</td>\n",
       "      <td>0.354</td>\n",
       "      <td>0.588</td>\n",
       "      <td>529.0</td>\n",
       "      <td>0.597</td>\n",
       "      <td>316.0</td>\n",
       "    </tr>\n",
       "    <tr>\n",
       "      <th>1</th>\n",
       "      <td>wrighde01</td>\n",
       "      <td>Delon Wright</td>\n",
       "      <td>183lb</td>\n",
       "      <td>1992-04-26</td>\n",
       "      <td>6-5</td>\n",
       "      <td>United States of America</td>\n",
       "      <td>DAL</td>\n",
       "      <td>2018-19</td>\n",
       "      <td>2.2</td>\n",
       "      <td>263.0</td>\n",
       "      <td>23.0</td>\n",
       "      <td>16.0</td>\n",
       "      <td>0.345</td>\n",
       "      <td>0.549</td>\n",
       "      <td>1086.0</td>\n",
       "      <td>0.498</td>\n",
       "      <td>541.0</td>\n",
       "    </tr>\n",
       "  </tbody>\n",
       "</table>\n",
       "</div>"
      ],
      "text/plain": [
       "   player_id          name weight  birth_date height  \\\n",
       "0  klebima01   Maxi Kleber  240lb  1992-01-29   6-10   \n",
       "1  wrighde01  Delon Wright  183lb  1992-04-26    6-5   \n",
       "\n",
       "                nationality team_abbreviation most_recent_season  \\\n",
       "0                   Germany               DAL            2018-19   \n",
       "1  United States of America               DAL            2018-19   \n",
       "\n",
       "   box_plus_minus  games_played  games_started  player_efficiency_rating  \\\n",
       "0             0.3         209.0           75.0                      13.4   \n",
       "1             2.2         263.0           23.0                      16.0   \n",
       "\n",
       "   three_point_percentage  true_shooting_percentage  two_point_attempts  \\\n",
       "0                   0.354                     0.588               529.0   \n",
       "1                   0.345                     0.549              1086.0   \n",
       "\n",
       "   two_point_percentage  two_pointers  \n",
       "0                 0.597         316.0  \n",
       "1                 0.498         541.0  "
      ]
     },
     "execution_count": 72,
     "metadata": {},
     "output_type": "execute_result"
    }
   ],
   "source": [
    "df[:2]"
   ]
  },
  {
   "cell_type": "markdown",
   "metadata": {},
   "source": [
    "### Exploring the data"
   ]
  },
  {
   "cell_type": "markdown",
   "metadata": {},
   "source": [
    "Let's start off by looking at the different datatypes of the various columns."
   ]
  },
  {
   "cell_type": "code",
   "execution_count": 73,
   "metadata": {},
   "outputs": [
    {
     "data": {
      "text/plain": [
       "player_id                    object\n",
       "name                         object\n",
       "weight                       object\n",
       "birth_date                   object\n",
       "height                       object\n",
       "nationality                  object\n",
       "team_abbreviation            object\n",
       "most_recent_season           object\n",
       "box_plus_minus              float64\n",
       "games_played                float64\n",
       "games_started               float64\n",
       "player_efficiency_rating    float64\n",
       "three_point_percentage      float64\n",
       "true_shooting_percentage    float64\n",
       "two_point_attempts          float64\n",
       "two_point_percentage        float64\n",
       "two_pointers                float64\n",
       "dtype: object"
      ]
     },
     "execution_count": 73,
     "metadata": {},
     "output_type": "execute_result"
    }
   ],
   "source": [
    "df.dtypes"
   ]
  },
  {
   "cell_type": "markdown",
   "metadata": {},
   "source": [
    "As we can see the initial datatypes are all of type object, while the later ones are of type string.  Let's just select the columns of type object, and then we can get to work coercing some of the columns."
   ]
  },
  {
   "cell_type": "code",
   "execution_count": 74,
   "metadata": {},
   "outputs": [],
   "source": [
    "players_object_df = df.select_dtypes('object')"
   ]
  },
  {
   "cell_type": "code",
   "execution_count": 75,
   "metadata": {},
   "outputs": [
    {
     "data": {
      "text/plain": [
       "Index(['player_id', 'name', 'weight', 'birth_date', 'height', 'nationality',\n",
       "       'team_abbreviation', 'most_recent_season'],\n",
       "      dtype='object')"
      ]
     },
     "execution_count": 75,
     "metadata": {},
     "output_type": "execute_result"
    }
   ],
   "source": [
    "players_object_df.columns\n",
    "# Index(['player_id', 'name', 'weight', 'birth_date', 'height', 'nationality',\n",
    "#        'team_abbreviation', 'most_recent_season'],\n",
    "#       dtype='object')"
   ]
  },
  {
   "cell_type": "markdown",
   "metadata": {},
   "source": [
    "Ok, now columns like `weight`, `birth_date`, `height`, and `most_recent_season` are candidates to coerce into different datatypes."
   ]
  },
  {
   "cell_type": "markdown",
   "metadata": {},
   "source": [
    "Let's just select those columns."
   ]
  },
  {
   "cell_type": "code",
   "execution_count": 76,
   "metadata": {},
   "outputs": [
    {
     "data": {
      "text/html": [
       "<div>\n",
       "<style scoped>\n",
       "    .dataframe tbody tr th:only-of-type {\n",
       "        vertical-align: middle;\n",
       "    }\n",
       "\n",
       "    .dataframe tbody tr th {\n",
       "        vertical-align: top;\n",
       "    }\n",
       "\n",
       "    .dataframe thead th {\n",
       "        text-align: right;\n",
       "    }\n",
       "</style>\n",
       "<table border=\"1\" class=\"dataframe\">\n",
       "  <thead>\n",
       "    <tr style=\"text-align: right;\">\n",
       "      <th></th>\n",
       "      <th>weight</th>\n",
       "      <th>birth_date</th>\n",
       "      <th>height</th>\n",
       "      <th>most_recent_season</th>\n",
       "    </tr>\n",
       "  </thead>\n",
       "  <tbody>\n",
       "    <tr>\n",
       "      <th>0</th>\n",
       "      <td>240lb</td>\n",
       "      <td>1992-01-29</td>\n",
       "      <td>6-10</td>\n",
       "      <td>2018-19</td>\n",
       "    </tr>\n",
       "    <tr>\n",
       "      <th>1</th>\n",
       "      <td>183lb</td>\n",
       "      <td>1992-04-26</td>\n",
       "      <td>6-5</td>\n",
       "      <td>2018-19</td>\n",
       "    </tr>\n",
       "  </tbody>\n",
       "</table>\n",
       "</div>"
      ],
      "text/plain": [
       "  weight  birth_date height most_recent_season\n",
       "0  240lb  1992-01-29   6-10            2018-19\n",
       "1  183lb  1992-04-26    6-5            2018-19"
      ]
     },
     "execution_count": 76,
     "metadata": {},
     "output_type": "execute_result"
    }
   ],
   "source": [
    "df_candidates = players_object_df[['weight', 'birth_date', 'height', 'most_recent_season']]\n",
    "df_candidates[:2]"
   ]
  },
  {
   "cell_type": "markdown",
   "metadata": {},
   "source": [
    "### Changing Birthdate"
   ]
  },
  {
   "cell_type": "code",
   "execution_count": 77,
   "metadata": {},
   "outputs": [],
   "source": [
    "birth_date_as_dt = pd.to_datetime(df_candidates['birth_date'])\n",
    "\n"
   ]
  },
  {
   "cell_type": "code",
   "execution_count": 78,
   "metadata": {},
   "outputs": [
    {
     "data": {
      "text/plain": [
       "dtype('<M8[ns]')"
      ]
     },
     "execution_count": 78,
     "metadata": {},
     "output_type": "execute_result"
    }
   ],
   "source": [
    "birth_date_as_dt.dtype\n",
    "# dtype('<M8[ns]')"
   ]
  },
  {
   "cell_type": "code",
   "execution_count": 79,
   "metadata": {},
   "outputs": [],
   "source": [
    "df_candidates = df_candidates.assign(birth_date = birth_date_as_dt)"
   ]
  },
  {
   "cell_type": "code",
   "execution_count": 80,
   "metadata": {},
   "outputs": [
    {
     "data": {
      "text/plain": [
       "weight                        object\n",
       "birth_date            datetime64[ns]\n",
       "height                        object\n",
       "most_recent_season            object\n",
       "dtype: object"
      ]
     },
     "execution_count": 80,
     "metadata": {},
     "output_type": "execute_result"
    }
   ],
   "source": [
    "df_candidates.dtypes\n",
    "\n",
    "# weight                        object\n",
    "# birth_date            datetime64[ns]\n",
    "# height                        object\n",
    "# most_recent_season            object\n",
    "# dtype: object"
   ]
  },
  {
   "cell_type": "markdown",
   "metadata": {},
   "source": [
    "### Weight"
   ]
  },
  {
   "cell_type": "markdown",
   "metadata": {},
   "source": [
    "Let's begin with weight.  As we saw, there are a number of ways that we can change weight, so that we only have a digits in each entry.  Try slicing the string, and then try using the replace method to coerce the string so that it only includes digits. \n",
    "\n",
    "* Using slice"
   ]
  },
  {
   "cell_type": "code",
   "execution_count": 81,
   "metadata": {},
   "outputs": [
    {
     "data": {
      "text/plain": [
       "0    240\n",
       "1    183\n",
       "2    220\n",
       "Name: weight, dtype: object"
      ]
     },
     "execution_count": 81,
     "metadata": {},
     "output_type": "execute_result"
    }
   ],
   "source": [
    "sliced_weights = df_candidates['weight'].str[:-2]\n",
    "sliced_weights[:3]"
   ]
  },
  {
   "cell_type": "markdown",
   "metadata": {},
   "source": [
    "* Using replace"
   ]
  },
  {
   "cell_type": "code",
   "execution_count": 82,
   "metadata": {},
   "outputs": [
    {
     "data": {
      "text/plain": [
       "0    240\n",
       "1    183\n",
       "Name: weight, dtype: object"
      ]
     },
     "execution_count": 82,
     "metadata": {},
     "output_type": "execute_result"
    }
   ],
   "source": [
    "replaced_weights = df_candidates['weight'].str.replace('lb', '')\n",
    "replaced_weights[:2]"
   ]
  },
  {
   "cell_type": "markdown",
   "metadata": {},
   "source": [
    "Now let's change the series to type integer, and then add it to our `players_object_df`."
   ]
  },
  {
   "cell_type": "code",
   "execution_count": 83,
   "metadata": {},
   "outputs": [],
   "source": [
    "import numpy as np\n",
    "weight_int = replaced_weights.astype(np.int_)"
   ]
  },
  {
   "cell_type": "code",
   "execution_count": 84,
   "metadata": {},
   "outputs": [
    {
     "data": {
      "text/plain": [
       "dtype('int64')"
      ]
     },
     "execution_count": 84,
     "metadata": {},
     "output_type": "execute_result"
    }
   ],
   "source": [
    "weight_int.dtype\n",
    "# dtype('int64')"
   ]
  },
  {
   "cell_type": "markdown",
   "metadata": {},
   "source": [
    "> We'll assign the column for you."
   ]
  },
  {
   "cell_type": "code",
   "execution_count": 85,
   "metadata": {},
   "outputs": [],
   "source": [
    "df_candidates = df_candidates.assign(weight = weight_int)"
   ]
  },
  {
   "cell_type": "code",
   "execution_count": 86,
   "metadata": {},
   "outputs": [
    {
     "data": {
      "text/plain": [
       "weight                         int64\n",
       "birth_date            datetime64[ns]\n",
       "height                        object\n",
       "most_recent_season            object\n",
       "dtype: object"
      ]
     },
     "execution_count": 86,
     "metadata": {},
     "output_type": "execute_result"
    }
   ],
   "source": [
    "df_candidates.dtypes\n",
    "# player_id             object\n",
    "# name                  object\n",
    "# weight                 int64\n",
    "# birth_date            object\n",
    "# height                object\n",
    "# nationality           object\n",
    "# team_abbreviation     object\n",
    "# most_recent_season    object"
   ]
  },
  {
   "cell_type": "markdown",
   "metadata": {},
   "source": [
    "### Coercing Season"
   ]
  },
  {
   "cell_type": "markdown",
   "metadata": {},
   "source": [
    "Now let's change the `most_recent_season` column.  Change it so that it only lists the latter year.  (Eg. 2018-19 should be changed to 2019, and 2017-2018 to 2018)."
   ]
  },
  {
   "cell_type": "code",
   "execution_count": 87,
   "metadata": {},
   "outputs": [],
   "source": [
    "recent_season = df_candidates['most_recent_season'].str[-2:]\n",
    "numeric_season = pd.to_numeric(recent_season)\n",
    "recent_season = numeric_season + 2000"
   ]
  },
  {
   "cell_type": "code",
   "execution_count": 88,
   "metadata": {},
   "outputs": [
    {
     "data": {
      "text/plain": [
       "0    2019.0\n",
       "1    2019.0\n",
       "2    2019.0\n",
       "Name: most_recent_season, dtype: float64"
      ]
     },
     "execution_count": 88,
     "metadata": {},
     "output_type": "execute_result"
    }
   ],
   "source": [
    "recent_season[:3]\n",
    "\n",
    "# 0    2019.0\n",
    "# 1    2019.0\n",
    "# 2    2019.0"
   ]
  },
  {
   "cell_type": "markdown",
   "metadata": {},
   "source": [
    "Now update `df_candidates` to use the `recent_season` column, using the `assign` method."
   ]
  },
  {
   "cell_type": "code",
   "execution_count": 89,
   "metadata": {},
   "outputs": [],
   "source": [
    "df_candidates = df_candidates.assign(most_recent_season = recent_season)"
   ]
  },
  {
   "cell_type": "code",
   "execution_count": 90,
   "metadata": {},
   "outputs": [
    {
     "data": {
      "text/plain": [
       "weight                         int64\n",
       "birth_date            datetime64[ns]\n",
       "height                        object\n",
       "most_recent_season           float64\n",
       "dtype: object"
      ]
     },
     "execution_count": 90,
     "metadata": {},
     "output_type": "execute_result"
    }
   ],
   "source": [
    "df_candidates.dtypes"
   ]
  },
  {
   "cell_type": "markdown",
   "metadata": {},
   "source": [
    "### Changing Height"
   ]
  },
  {
   "cell_type": "code",
   "execution_count": 95,
   "metadata": {},
   "outputs": [],
   "source": [
    "feet = df_candidates['height'].str.split('-').str[0]\n",
    "inches = df_candidates['height'].str.split('-').str[-1]"
   ]
  },
  {
   "cell_type": "code",
   "execution_count": 101,
   "metadata": {},
   "outputs": [],
   "source": [
    "feet_inches = pd.to_numeric(feet) * 12"
   ]
  },
  {
   "cell_type": "code",
   "execution_count": 103,
   "metadata": {},
   "outputs": [],
   "source": [
    "inches = pd.to_numeric(inches)"
   ]
  },
  {
   "cell_type": "code",
   "execution_count": 105,
   "metadata": {},
   "outputs": [],
   "source": [
    "total_inches = feet_inches + inches"
   ]
  },
  {
   "cell_type": "code",
   "execution_count": 108,
   "metadata": {},
   "outputs": [
    {
     "data": {
      "text/plain": [
       "0    82\n",
       "1    77\n",
       "2    79\n",
       "3    77\n",
       "4    74\n",
       "Name: height, dtype: int64"
      ]
     },
     "execution_count": 108,
     "metadata": {},
     "output_type": "execute_result"
    }
   ],
   "source": [
    "total_inches[:5]\n",
    "# 0    82\n",
    "# 1    77\n",
    "# 2    79\n",
    "# 3    77\n",
    "# 4    74"
   ]
  },
  {
   "cell_type": "markdown",
   "metadata": {},
   "source": [
    "Next, update `df_candidates` to use the new column."
   ]
  },
  {
   "cell_type": "code",
   "execution_count": 111,
   "metadata": {},
   "outputs": [],
   "source": [
    "df_candidates = df_candidates.assign(height = total_inches)"
   ]
  },
  {
   "cell_type": "code",
   "execution_count": 114,
   "metadata": {},
   "outputs": [
    {
     "data": {
      "text/plain": [
       "weight                         int64\n",
       "birth_date            datetime64[ns]\n",
       "height                         int64\n",
       "most_recent_season           float64\n",
       "dtype: object"
      ]
     },
     "execution_count": 114,
     "metadata": {},
     "output_type": "execute_result"
    }
   ],
   "source": [
    "df_candidates.dtypes\n",
    "# weight                         int64\n",
    "# birth_date            datetime64[ns]\n",
    "# height                         int64\n",
    "# most_recent_season           float64\n",
    "# dtype: object"
   ]
  },
  {
   "cell_type": "markdown",
   "metadata": {},
   "source": [
    "### Updating the original dataframe"
   ]
  },
  {
   "cell_type": "markdown",
   "metadata": {},
   "source": [
    "Now that we have coerced all of our data, it's time to combine this with the data from our original dataframe."
   ]
  },
  {
   "cell_type": "code",
   "execution_count": 115,
   "metadata": {},
   "outputs": [
    {
     "data": {
      "text/html": [
       "<div>\n",
       "<style scoped>\n",
       "    .dataframe tbody tr th:only-of-type {\n",
       "        vertical-align: middle;\n",
       "    }\n",
       "\n",
       "    .dataframe tbody tr th {\n",
       "        vertical-align: top;\n",
       "    }\n",
       "\n",
       "    .dataframe thead th {\n",
       "        text-align: right;\n",
       "    }\n",
       "</style>\n",
       "<table border=\"1\" class=\"dataframe\">\n",
       "  <thead>\n",
       "    <tr style=\"text-align: right;\">\n",
       "      <th></th>\n",
       "      <th>player_id</th>\n",
       "      <th>name</th>\n",
       "      <th>weight</th>\n",
       "      <th>birth_date</th>\n",
       "      <th>height</th>\n",
       "      <th>nationality</th>\n",
       "      <th>team_abbreviation</th>\n",
       "      <th>most_recent_season</th>\n",
       "      <th>box_plus_minus</th>\n",
       "      <th>games_played</th>\n",
       "      <th>games_started</th>\n",
       "      <th>player_efficiency_rating</th>\n",
       "      <th>three_point_percentage</th>\n",
       "      <th>true_shooting_percentage</th>\n",
       "      <th>two_point_attempts</th>\n",
       "      <th>two_point_percentage</th>\n",
       "      <th>two_pointers</th>\n",
       "    </tr>\n",
       "  </thead>\n",
       "  <tbody>\n",
       "    <tr>\n",
       "      <th>0</th>\n",
       "      <td>klebima01</td>\n",
       "      <td>Maxi Kleber</td>\n",
       "      <td>240lb</td>\n",
       "      <td>1992-01-29</td>\n",
       "      <td>6-10</td>\n",
       "      <td>Germany</td>\n",
       "      <td>DAL</td>\n",
       "      <td>2018-19</td>\n",
       "      <td>0.3</td>\n",
       "      <td>209.0</td>\n",
       "      <td>75.0</td>\n",
       "      <td>13.4</td>\n",
       "      <td>0.354</td>\n",
       "      <td>0.588</td>\n",
       "      <td>529.0</td>\n",
       "      <td>0.597</td>\n",
       "      <td>316.0</td>\n",
       "    </tr>\n",
       "    <tr>\n",
       "      <th>1</th>\n",
       "      <td>wrighde01</td>\n",
       "      <td>Delon Wright</td>\n",
       "      <td>183lb</td>\n",
       "      <td>1992-04-26</td>\n",
       "      <td>6-5</td>\n",
       "      <td>United States of America</td>\n",
       "      <td>DAL</td>\n",
       "      <td>2018-19</td>\n",
       "      <td>2.2</td>\n",
       "      <td>263.0</td>\n",
       "      <td>23.0</td>\n",
       "      <td>16.0</td>\n",
       "      <td>0.345</td>\n",
       "      <td>0.549</td>\n",
       "      <td>1086.0</td>\n",
       "      <td>0.498</td>\n",
       "      <td>541.0</td>\n",
       "    </tr>\n",
       "  </tbody>\n",
       "</table>\n",
       "</div>"
      ],
      "text/plain": [
       "   player_id          name weight  birth_date height  \\\n",
       "0  klebima01   Maxi Kleber  240lb  1992-01-29   6-10   \n",
       "1  wrighde01  Delon Wright  183lb  1992-04-26    6-5   \n",
       "\n",
       "                nationality team_abbreviation most_recent_season  \\\n",
       "0                   Germany               DAL            2018-19   \n",
       "1  United States of America               DAL            2018-19   \n",
       "\n",
       "   box_plus_minus  games_played  games_started  player_efficiency_rating  \\\n",
       "0             0.3         209.0           75.0                      13.4   \n",
       "1             2.2         263.0           23.0                      16.0   \n",
       "\n",
       "   three_point_percentage  true_shooting_percentage  two_point_attempts  \\\n",
       "0                   0.354                     0.588               529.0   \n",
       "1                   0.345                     0.549              1086.0   \n",
       "\n",
       "   two_point_percentage  two_pointers  \n",
       "0                 0.597         316.0  \n",
       "1                 0.498         541.0  "
      ]
     },
     "execution_count": 115,
     "metadata": {},
     "output_type": "execute_result"
    }
   ],
   "source": [
    "df[:2]"
   ]
  },
  {
   "cell_type": "code",
   "execution_count": 116,
   "metadata": {},
   "outputs": [
    {
     "data": {
      "text/plain": [
       "Index(['weight', 'birth_date', 'height', 'most_recent_season'], dtype='object')"
      ]
     },
     "execution_count": 116,
     "metadata": {},
     "output_type": "execute_result"
    }
   ],
   "source": [
    "df_candidates.columns"
   ]
  },
  {
   "cell_type": "code",
   "execution_count": 123,
   "metadata": {},
   "outputs": [],
   "source": [
    "original_cols = df.loc[:, ~df.columns.isin(df_candidates.columns)]"
   ]
  },
  {
   "cell_type": "code",
   "execution_count": 125,
   "metadata": {},
   "outputs": [
    {
     "data": {
      "text/html": [
       "<div>\n",
       "<style scoped>\n",
       "    .dataframe tbody tr th:only-of-type {\n",
       "        vertical-align: middle;\n",
       "    }\n",
       "\n",
       "    .dataframe tbody tr th {\n",
       "        vertical-align: top;\n",
       "    }\n",
       "\n",
       "    .dataframe thead th {\n",
       "        text-align: right;\n",
       "    }\n",
       "</style>\n",
       "<table border=\"1\" class=\"dataframe\">\n",
       "  <thead>\n",
       "    <tr style=\"text-align: right;\">\n",
       "      <th></th>\n",
       "      <th>player_id</th>\n",
       "      <th>name</th>\n",
       "      <th>nationality</th>\n",
       "      <th>team_abbreviation</th>\n",
       "      <th>box_plus_minus</th>\n",
       "      <th>games_played</th>\n",
       "      <th>games_started</th>\n",
       "      <th>player_efficiency_rating</th>\n",
       "      <th>three_point_percentage</th>\n",
       "      <th>true_shooting_percentage</th>\n",
       "      <th>two_point_attempts</th>\n",
       "      <th>two_point_percentage</th>\n",
       "      <th>two_pointers</th>\n",
       "    </tr>\n",
       "  </thead>\n",
       "  <tbody>\n",
       "    <tr>\n",
       "      <th>0</th>\n",
       "      <td>klebima01</td>\n",
       "      <td>Maxi Kleber</td>\n",
       "      <td>Germany</td>\n",
       "      <td>DAL</td>\n",
       "      <td>0.3</td>\n",
       "      <td>209.0</td>\n",
       "      <td>75.0</td>\n",
       "      <td>13.4</td>\n",
       "      <td>0.354</td>\n",
       "      <td>0.588</td>\n",
       "      <td>529.0</td>\n",
       "      <td>0.597</td>\n",
       "      <td>316.0</td>\n",
       "    </tr>\n",
       "    <tr>\n",
       "      <th>1</th>\n",
       "      <td>wrighde01</td>\n",
       "      <td>Delon Wright</td>\n",
       "      <td>United States of America</td>\n",
       "      <td>DAL</td>\n",
       "      <td>2.2</td>\n",
       "      <td>263.0</td>\n",
       "      <td>23.0</td>\n",
       "      <td>16.0</td>\n",
       "      <td>0.345</td>\n",
       "      <td>0.549</td>\n",
       "      <td>1086.0</td>\n",
       "      <td>0.498</td>\n",
       "      <td>541.0</td>\n",
       "    </tr>\n",
       "  </tbody>\n",
       "</table>\n",
       "</div>"
      ],
      "text/plain": [
       "   player_id          name               nationality team_abbreviation  \\\n",
       "0  klebima01   Maxi Kleber                   Germany               DAL   \n",
       "1  wrighde01  Delon Wright  United States of America               DAL   \n",
       "\n",
       "   box_plus_minus  games_played  games_started  player_efficiency_rating  \\\n",
       "0             0.3         209.0           75.0                      13.4   \n",
       "1             2.2         263.0           23.0                      16.0   \n",
       "\n",
       "   three_point_percentage  true_shooting_percentage  two_point_attempts  \\\n",
       "0                   0.354                     0.588               529.0   \n",
       "1                   0.345                     0.549              1086.0   \n",
       "\n",
       "   two_point_percentage  two_pointers  \n",
       "0                 0.597         316.0  \n",
       "1                 0.498         541.0  "
      ]
     },
     "execution_count": 125,
     "metadata": {},
     "output_type": "execute_result"
    }
   ],
   "source": [
    "original_cols[:2]"
   ]
  },
  {
   "cell_type": "code",
   "execution_count": 130,
   "metadata": {},
   "outputs": [],
   "source": [
    "updated_players = df_candidates.merge(original_cols, left_index=True, right_index=True)"
   ]
  },
  {
   "cell_type": "code",
   "execution_count": 131,
   "metadata": {},
   "outputs": [
    {
     "data": {
      "text/html": [
       "<div>\n",
       "<style scoped>\n",
       "    .dataframe tbody tr th:only-of-type {\n",
       "        vertical-align: middle;\n",
       "    }\n",
       "\n",
       "    .dataframe tbody tr th {\n",
       "        vertical-align: top;\n",
       "    }\n",
       "\n",
       "    .dataframe thead th {\n",
       "        text-align: right;\n",
       "    }\n",
       "</style>\n",
       "<table border=\"1\" class=\"dataframe\">\n",
       "  <thead>\n",
       "    <tr style=\"text-align: right;\">\n",
       "      <th></th>\n",
       "      <th>weight</th>\n",
       "      <th>birth_date</th>\n",
       "      <th>height</th>\n",
       "      <th>most_recent_season</th>\n",
       "      <th>player_id</th>\n",
       "      <th>name</th>\n",
       "      <th>nationality</th>\n",
       "      <th>team_abbreviation</th>\n",
       "      <th>box_plus_minus</th>\n",
       "      <th>games_played</th>\n",
       "      <th>games_started</th>\n",
       "      <th>player_efficiency_rating</th>\n",
       "      <th>three_point_percentage</th>\n",
       "      <th>true_shooting_percentage</th>\n",
       "      <th>two_point_attempts</th>\n",
       "      <th>two_point_percentage</th>\n",
       "      <th>two_pointers</th>\n",
       "    </tr>\n",
       "  </thead>\n",
       "  <tbody>\n",
       "    <tr>\n",
       "      <th>0</th>\n",
       "      <td>240</td>\n",
       "      <td>1992-01-29</td>\n",
       "      <td>82</td>\n",
       "      <td>2019.0</td>\n",
       "      <td>klebima01</td>\n",
       "      <td>Maxi Kleber</td>\n",
       "      <td>Germany</td>\n",
       "      <td>DAL</td>\n",
       "      <td>0.3</td>\n",
       "      <td>209.0</td>\n",
       "      <td>75.0</td>\n",
       "      <td>13.4</td>\n",
       "      <td>0.354</td>\n",
       "      <td>0.588</td>\n",
       "      <td>529.0</td>\n",
       "      <td>0.597</td>\n",
       "      <td>316.0</td>\n",
       "    </tr>\n",
       "    <tr>\n",
       "      <th>1</th>\n",
       "      <td>183</td>\n",
       "      <td>1992-04-26</td>\n",
       "      <td>77</td>\n",
       "      <td>2019.0</td>\n",
       "      <td>wrighde01</td>\n",
       "      <td>Delon Wright</td>\n",
       "      <td>United States of America</td>\n",
       "      <td>DAL</td>\n",
       "      <td>2.2</td>\n",
       "      <td>263.0</td>\n",
       "      <td>23.0</td>\n",
       "      <td>16.0</td>\n",
       "      <td>0.345</td>\n",
       "      <td>0.549</td>\n",
       "      <td>1086.0</td>\n",
       "      <td>0.498</td>\n",
       "      <td>541.0</td>\n",
       "    </tr>\n",
       "  </tbody>\n",
       "</table>\n",
       "</div>"
      ],
      "text/plain": [
       "   weight birth_date  height  most_recent_season  player_id          name  \\\n",
       "0     240 1992-01-29      82              2019.0  klebima01   Maxi Kleber   \n",
       "1     183 1992-04-26      77              2019.0  wrighde01  Delon Wright   \n",
       "\n",
       "                nationality team_abbreviation  box_plus_minus  games_played  \\\n",
       "0                   Germany               DAL             0.3         209.0   \n",
       "1  United States of America               DAL             2.2         263.0   \n",
       "\n",
       "   games_started  player_efficiency_rating  three_point_percentage  \\\n",
       "0           75.0                      13.4                   0.354   \n",
       "1           23.0                      16.0                   0.345   \n",
       "\n",
       "   true_shooting_percentage  two_point_attempts  two_point_percentage  \\\n",
       "0                     0.588               529.0                 0.597   \n",
       "1                     0.549              1086.0                 0.498   \n",
       "\n",
       "   two_pointers  \n",
       "0         316.0  \n",
       "1         541.0  "
      ]
     },
     "execution_count": 131,
     "metadata": {},
     "output_type": "execute_result"
    }
   ],
   "source": [
    "updated_players[:2]"
   ]
  },
  {
   "cell_type": "markdown",
   "metadata": {},
   "source": [
    "Let's make sure that the data lines up with our original."
   ]
  },
  {
   "cell_type": "code",
   "execution_count": 132,
   "metadata": {},
   "outputs": [
    {
     "data": {
      "text/html": [
       "<div>\n",
       "<style scoped>\n",
       "    .dataframe tbody tr th:only-of-type {\n",
       "        vertical-align: middle;\n",
       "    }\n",
       "\n",
       "    .dataframe tbody tr th {\n",
       "        vertical-align: top;\n",
       "    }\n",
       "\n",
       "    .dataframe thead th {\n",
       "        text-align: right;\n",
       "    }\n",
       "</style>\n",
       "<table border=\"1\" class=\"dataframe\">\n",
       "  <thead>\n",
       "    <tr style=\"text-align: right;\">\n",
       "      <th></th>\n",
       "      <th>player_id</th>\n",
       "      <th>name</th>\n",
       "      <th>weight</th>\n",
       "      <th>birth_date</th>\n",
       "      <th>height</th>\n",
       "      <th>nationality</th>\n",
       "      <th>team_abbreviation</th>\n",
       "      <th>most_recent_season</th>\n",
       "      <th>box_plus_minus</th>\n",
       "      <th>games_played</th>\n",
       "      <th>games_started</th>\n",
       "      <th>player_efficiency_rating</th>\n",
       "      <th>three_point_percentage</th>\n",
       "      <th>true_shooting_percentage</th>\n",
       "      <th>two_point_attempts</th>\n",
       "      <th>two_point_percentage</th>\n",
       "      <th>two_pointers</th>\n",
       "    </tr>\n",
       "  </thead>\n",
       "  <tbody>\n",
       "    <tr>\n",
       "      <th>0</th>\n",
       "      <td>klebima01</td>\n",
       "      <td>Maxi Kleber</td>\n",
       "      <td>240lb</td>\n",
       "      <td>1992-01-29</td>\n",
       "      <td>6-10</td>\n",
       "      <td>Germany</td>\n",
       "      <td>DAL</td>\n",
       "      <td>2018-19</td>\n",
       "      <td>0.3</td>\n",
       "      <td>209.0</td>\n",
       "      <td>75.0</td>\n",
       "      <td>13.4</td>\n",
       "      <td>0.354</td>\n",
       "      <td>0.588</td>\n",
       "      <td>529.0</td>\n",
       "      <td>0.597</td>\n",
       "      <td>316.0</td>\n",
       "    </tr>\n",
       "    <tr>\n",
       "      <th>1</th>\n",
       "      <td>wrighde01</td>\n",
       "      <td>Delon Wright</td>\n",
       "      <td>183lb</td>\n",
       "      <td>1992-04-26</td>\n",
       "      <td>6-5</td>\n",
       "      <td>United States of America</td>\n",
       "      <td>DAL</td>\n",
       "      <td>2018-19</td>\n",
       "      <td>2.2</td>\n",
       "      <td>263.0</td>\n",
       "      <td>23.0</td>\n",
       "      <td>16.0</td>\n",
       "      <td>0.345</td>\n",
       "      <td>0.549</td>\n",
       "      <td>1086.0</td>\n",
       "      <td>0.498</td>\n",
       "      <td>541.0</td>\n",
       "    </tr>\n",
       "  </tbody>\n",
       "</table>\n",
       "</div>"
      ],
      "text/plain": [
       "   player_id          name weight  birth_date height  \\\n",
       "0  klebima01   Maxi Kleber  240lb  1992-01-29   6-10   \n",
       "1  wrighde01  Delon Wright  183lb  1992-04-26    6-5   \n",
       "\n",
       "                nationality team_abbreviation most_recent_season  \\\n",
       "0                   Germany               DAL            2018-19   \n",
       "1  United States of America               DAL            2018-19   \n",
       "\n",
       "   box_plus_minus  games_played  games_started  player_efficiency_rating  \\\n",
       "0             0.3         209.0           75.0                      13.4   \n",
       "1             2.2         263.0           23.0                      16.0   \n",
       "\n",
       "   three_point_percentage  true_shooting_percentage  two_point_attempts  \\\n",
       "0                   0.354                     0.588               529.0   \n",
       "1                   0.345                     0.549              1086.0   \n",
       "\n",
       "   two_point_percentage  two_pointers  \n",
       "0                 0.597         316.0  \n",
       "1                 0.498         541.0  "
      ]
     },
     "execution_count": 132,
     "metadata": {},
     "output_type": "execute_result"
    }
   ],
   "source": [
    "df[:2]"
   ]
  },
  {
   "cell_type": "markdown",
   "metadata": {},
   "source": [
    "And then, let's reorder the columns of our `updated_players` dataframe."
   ]
  },
  {
   "cell_type": "code",
   "execution_count": 133,
   "metadata": {},
   "outputs": [
    {
     "data": {
      "text/plain": [
       "Index(['weight', 'birth_date', 'height', 'most_recent_season', 'player_id',\n",
       "       'name', 'nationality', 'team_abbreviation', 'box_plus_minus',\n",
       "       'games_played', 'games_started', 'player_efficiency_rating',\n",
       "       'three_point_percentage', 'true_shooting_percentage',\n",
       "       'two_point_attempts', 'two_point_percentage', 'two_pointers'],\n",
       "      dtype='object')"
      ]
     },
     "execution_count": 133,
     "metadata": {},
     "output_type": "execute_result"
    }
   ],
   "source": [
    "updated_players.columns"
   ]
  },
  {
   "cell_type": "code",
   "execution_count": 137,
   "metadata": {},
   "outputs": [
    {
     "data": {
      "text/plain": [
       "Index(['player_id', 'name', 'weight', 'birth_date', 'height', 'nationality',\n",
       "       'team_abbreviation', 'most_recent_season', 'box_plus_minus',\n",
       "       'games_played', 'games_started', 'player_efficiency_rating',\n",
       "       'three_point_percentage', 'true_shooting_percentage',\n",
       "       'two_point_attempts', 'two_point_percentage', 'two_pointers'],\n",
       "      dtype='object')"
      ]
     },
     "execution_count": 137,
     "metadata": {},
     "output_type": "execute_result"
    }
   ],
   "source": [
    "df.columns"
   ]
  },
  {
   "cell_type": "markdown",
   "metadata": {},
   "source": [
    "We can do so, by using the original dataframe's columns with the `loc` method."
   ]
  },
  {
   "cell_type": "code",
   "execution_count": 141,
   "metadata": {},
   "outputs": [
    {
     "data": {
      "text/html": [
       "<div>\n",
       "<style scoped>\n",
       "    .dataframe tbody tr th:only-of-type {\n",
       "        vertical-align: middle;\n",
       "    }\n",
       "\n",
       "    .dataframe tbody tr th {\n",
       "        vertical-align: top;\n",
       "    }\n",
       "\n",
       "    .dataframe thead th {\n",
       "        text-align: right;\n",
       "    }\n",
       "</style>\n",
       "<table border=\"1\" class=\"dataframe\">\n",
       "  <thead>\n",
       "    <tr style=\"text-align: right;\">\n",
       "      <th></th>\n",
       "      <th>player_id</th>\n",
       "      <th>name</th>\n",
       "      <th>weight</th>\n",
       "      <th>birth_date</th>\n",
       "      <th>height</th>\n",
       "      <th>nationality</th>\n",
       "      <th>team_abbreviation</th>\n",
       "      <th>most_recent_season</th>\n",
       "      <th>box_plus_minus</th>\n",
       "      <th>games_played</th>\n",
       "      <th>games_started</th>\n",
       "      <th>player_efficiency_rating</th>\n",
       "      <th>three_point_percentage</th>\n",
       "      <th>true_shooting_percentage</th>\n",
       "      <th>two_point_attempts</th>\n",
       "      <th>two_point_percentage</th>\n",
       "      <th>two_pointers</th>\n",
       "    </tr>\n",
       "  </thead>\n",
       "  <tbody>\n",
       "    <tr>\n",
       "      <th>0</th>\n",
       "      <td>klebima01</td>\n",
       "      <td>Maxi Kleber</td>\n",
       "      <td>240</td>\n",
       "      <td>1992-01-29</td>\n",
       "      <td>82</td>\n",
       "      <td>Germany</td>\n",
       "      <td>DAL</td>\n",
       "      <td>2019.0</td>\n",
       "      <td>0.3</td>\n",
       "      <td>209.0</td>\n",
       "      <td>75.0</td>\n",
       "      <td>13.4</td>\n",
       "      <td>0.354</td>\n",
       "      <td>0.588</td>\n",
       "      <td>529.0</td>\n",
       "      <td>0.597</td>\n",
       "      <td>316.0</td>\n",
       "    </tr>\n",
       "    <tr>\n",
       "      <th>1</th>\n",
       "      <td>wrighde01</td>\n",
       "      <td>Delon Wright</td>\n",
       "      <td>183</td>\n",
       "      <td>1992-04-26</td>\n",
       "      <td>77</td>\n",
       "      <td>United States of America</td>\n",
       "      <td>DAL</td>\n",
       "      <td>2019.0</td>\n",
       "      <td>2.2</td>\n",
       "      <td>263.0</td>\n",
       "      <td>23.0</td>\n",
       "      <td>16.0</td>\n",
       "      <td>0.345</td>\n",
       "      <td>0.549</td>\n",
       "      <td>1086.0</td>\n",
       "      <td>0.498</td>\n",
       "      <td>541.0</td>\n",
       "    </tr>\n",
       "  </tbody>\n",
       "</table>\n",
       "</div>"
      ],
      "text/plain": [
       "   player_id          name  weight birth_date  height  \\\n",
       "0  klebima01   Maxi Kleber     240 1992-01-29      82   \n",
       "1  wrighde01  Delon Wright     183 1992-04-26      77   \n",
       "\n",
       "                nationality team_abbreviation  most_recent_season  \\\n",
       "0                   Germany               DAL              2019.0   \n",
       "1  United States of America               DAL              2019.0   \n",
       "\n",
       "   box_plus_minus  games_played  games_started  player_efficiency_rating  \\\n",
       "0             0.3         209.0           75.0                      13.4   \n",
       "1             2.2         263.0           23.0                      16.0   \n",
       "\n",
       "   three_point_percentage  true_shooting_percentage  two_point_attempts  \\\n",
       "0                   0.354                     0.588               529.0   \n",
       "1                   0.345                     0.549              1086.0   \n",
       "\n",
       "   two_point_percentage  two_pointers  \n",
       "0                 0.597         316.0  \n",
       "1                 0.498         541.0  "
      ]
     },
     "execution_count": 141,
     "metadata": {},
     "output_type": "execute_result"
    }
   ],
   "source": [
    "players_df = updated_players.loc[:, df.columns]\n",
    "players_df[:2]"
   ]
  },
  {
   "cell_type": "markdown",
   "metadata": {},
   "source": [
    "### Summary"
   ]
  },
  {
   "cell_type": "markdown",
   "metadata": {},
   "source": [
    "Nice job.  You are earning your pandas stripes."
   ]
  },
  {
   "cell_type": "markdown",
   "metadata": {},
   "source": [
    "### Resources"
   ]
  },
  {
   "cell_type": "markdown",
   "metadata": {},
   "source": [
    "[Sports Reference API](https://sportsreference.readthedocs.io/en/stable/)"
   ]
  },
  {
   "cell_type": "markdown",
   "metadata": {},
   "source": [
    "[Set with Copy Warning](https://www.dataquest.io/blog/settingwithcopywarning/)"
   ]
  }
 ],
 "metadata": {
  "kernelspec": {
   "display_name": "Python 3",
   "language": "python",
   "name": "python3"
  },
  "language_info": {
   "codemirror_mode": {
    "name": "ipython",
    "version": 3
   },
   "file_extension": ".py",
   "mimetype": "text/x-python",
   "name": "python",
   "nbconvert_exporter": "python",
   "pygments_lexer": "ipython3",
   "version": "3.7.4"
  }
 },
 "nbformat": 4,
 "nbformat_minor": 4
}
