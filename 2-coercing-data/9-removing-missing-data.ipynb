{
 "cells": [
  {
   "cell_type": "markdown",
   "metadata": {},
   "source": [
    "# Replacing Data: Missing Data And Map"
   ]
  },
  {
   "cell_type": "markdown",
   "metadata": {},
   "source": [
    "### Introduction"
   ]
  },
  {
   "cell_type": "markdown",
   "metadata": {},
   "source": [
    "In our last lab, we were able to gather data from a our CSV file and coerce much of our data into numbers so that we could better make sense of the data.  There are a couple of places where we were stuck.  In this lesson, we'll learn how to finish cleaning our data by cleaning missing values, and working with the map method."
   ]
  },
  {
   "cell_type": "markdown",
   "metadata": {},
   "source": [
    "### Our SAT Data - Not as Clean as We Thought :("
   ]
  },
  {
   "cell_type": "markdown",
   "metadata": {},
   "source": [
    "Let's take another look at our SAT data from the last lab."
   ]
  },
  {
   "cell_type": "code",
   "execution_count": 1,
   "metadata": {},
   "outputs": [],
   "source": [
    "import pandas as pd\n",
    "url = \"https://raw.githubusercontent.com/jigsawlabs-student/introductory-pandas/master/nyc_hs_sat.csv\"\n",
    "sat_df = pd.read_csv(url, index_col = 0)"
   ]
  },
  {
   "cell_type": "code",
   "execution_count": 2,
   "metadata": {},
   "outputs": [
    {
     "data": {
      "text/plain": [
       "dbn                     object\n",
       "name                    object\n",
       "num_test_takers        float64\n",
       "reading_avg            float64\n",
       "math_avg               float64\n",
       "writing_score          float64\n",
       "boro                    object\n",
       "total_students           int64\n",
       "graduation_rate        float64\n",
       "attendance_rate        float64\n",
       "college_career_rate    float64\n",
       "dtype: object"
      ]
     },
     "execution_count": 2,
     "metadata": {},
     "output_type": "execute_result"
    }
   ],
   "source": [
    "sat_df.dtypes"
   ]
  },
  {
   "cell_type": "markdown",
   "metadata": {},
   "source": [
    "Looking at the above data, it appears that we have a good number of features to help explain the `math_avg` of a school."
   ]
  },
  {
   "cell_type": "markdown",
   "metadata": {},
   "source": [
    "But one problem that we may have is that some of the data is missing.  It's good to know if a lot of our data is missing, as we may wish to either not use the column (if too many entries in the column is missing) or change some of the replace the missing entries with the average value in the column."
   ]
  },
  {
   "cell_type": "markdown",
   "metadata": {},
   "source": [
    "> In calculating summary statistics, and in plotting data, and in training a machine learning model it's important to remove missing values."
   ]
  },
  {
   "cell_type": "markdown",
   "metadata": {},
   "source": [
    "### Working with Missing Values"
   ]
  },
  {
   "cell_type": "markdown",
   "metadata": {},
   "source": [
    "So how do we see if our dataset has missing values?"
   ]
  },
  {
   "cell_type": "markdown",
   "metadata": {},
   "source": [
    "Missing values (if we're lucky) are generally identified with the value `na` which stands for not available.  We can identify the number of missing values in each column with the following line of code."
   ]
  },
  {
   "cell_type": "code",
   "execution_count": 13,
   "metadata": {},
   "outputs": [
    {
     "data": {
      "text/plain": [
       "dbn                     0\n",
       "name                    0\n",
       "num_test_takers        29\n",
       "reading_avg            29\n",
       "math_avg               29\n",
       "writing_score          29\n",
       "boro                    0\n",
       "total_students          0\n",
       "graduation_rate         5\n",
       "attendance_rate         0\n",
       "college_career_rate     5\n",
       "dtype: int64"
      ]
     },
     "execution_count": 13,
     "metadata": {},
     "output_type": "execute_result"
    }
   ],
   "source": [
    "sat_df.isna().sum()"
   ]
  },
  {
   "cell_type": "markdown",
   "metadata": {},
   "source": [
    "Now we can see that a number of columns have missing values.\n",
    "\n",
    "What to do with missing values warrants a longer discussion, but for now, we can simply drop the rows that contain missing values.  Here's how."
   ]
  },
  {
   "cell_type": "code",
   "execution_count": 14,
   "metadata": {},
   "outputs": [],
   "source": [
    "dropped_sat_df = sat_df.dropna()"
   ]
  },
  {
   "cell_type": "markdown",
   "metadata": {},
   "source": [
    "> The method `dropna` returns a new, updated, dataframe so be sure to store this new dataframe in a variable."
   ]
  },
  {
   "cell_type": "markdown",
   "metadata": {},
   "source": [
    "And now we can see that none of the columns have `na` values."
   ]
  },
  {
   "cell_type": "code",
   "execution_count": 15,
   "metadata": {},
   "outputs": [
    {
     "data": {
      "text/plain": [
       "dbn                    0\n",
       "name                   0\n",
       "num_test_takers        0\n",
       "reading_avg            0\n",
       "math_avg               0\n",
       "writing_score          0\n",
       "boro                   0\n",
       "total_students         0\n",
       "graduation_rate        0\n",
       "attendance_rate        0\n",
       "college_career_rate    0\n",
       "dtype: int64"
      ]
     },
     "execution_count": 15,
     "metadata": {},
     "output_type": "execute_result"
    }
   ],
   "source": [
    "dropped_sat_df.isna().sum()"
   ]
  },
  {
   "cell_type": "markdown",
   "metadata": {},
   "source": [
    "And now we can work with our reduced dataset."
   ]
  },
  {
   "cell_type": "code",
   "execution_count": 16,
   "metadata": {},
   "outputs": [],
   "source": [
    "X = dropped_sat_df.select_dtypes(exclude = ['object']).drop(columns = ['math_avg'])\n",
    "X.columns\n",
    "\n",
    "y = dropped_sat_df.math_avg"
   ]
  },
  {
   "cell_type": "markdown",
   "metadata": {},
   "source": [
    "### Summary"
   ]
  },
  {
   "cell_type": "markdown",
   "metadata": {},
   "source": [
    "In this lesson, we saw that all of our machine learning model data being numeric means that we must not have any `na` values in our training data.  We can discover how many `na` values are in each column with the line:\n",
    "\n",
    "```python\n",
    "df.isna().sum()\n",
    "```\n",
    "\n",
    "And we can drop our those rows with missing data in a column with the line:\n",
    "\n",
    "`dropped_df = df.dropna()`"
   ]
  }
 ],
 "metadata": {
  "kernelspec": {
   "display_name": "Python 3 (ipykernel)",
   "language": "python",
   "name": "python3"
  },
  "language_info": {
   "codemirror_mode": {
    "name": "ipython",
    "version": 3
   },
   "file_extension": ".py",
   "mimetype": "text/x-python",
   "name": "python",
   "nbconvert_exporter": "python",
   "pygments_lexer": "ipython3",
   "version": "3.9.12"
  }
 },
 "nbformat": 4,
 "nbformat_minor": 4
}
