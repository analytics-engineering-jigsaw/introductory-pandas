{
 "cells": [
  {
   "cell_type": "markdown",
   "metadata": {},
   "source": [
    "# Coercing Strings in Pandas"
   ]
  },
  {
   "cell_type": "markdown",
   "metadata": {},
   "source": [
    "### Introduction"
   ]
  },
  {
   "cell_type": "markdown",
   "metadata": {},
   "source": [
    "Now so far, we have seen how to coerce data by modifying the datatype with `astype`, by removing missing data, and by coercing data with the `map` function.  In this lesson, we will see some techniques for working with string data in pandas."
   ]
  },
  {
   "cell_type": "markdown",
   "metadata": {},
   "source": [
    "### Working with Strings"
   ]
  },
  {
   "cell_type": "code",
   "execution_count": null,
   "metadata": {},
   "outputs": [],
   "source": [
    "Let's use pandas to scrape some data from ESPN about the roster of the Houston Rockets."
   ]
  },
  {
   "cell_type": "code",
   "execution_count": 4,
   "metadata": {},
   "outputs": [],
   "source": [
    "import pandas as pd\n",
    "hou_dfs = pd.read_html(\"https://www.espn.com/nba/team/roster/_/name/hou\")"
   ]
  },
  {
   "cell_type": "code",
   "execution_count": 8,
   "metadata": {},
   "outputs": [],
   "source": [
    "hou_df = hou_dfs[-1].loc[:, 'Name':]"
   ]
  },
  {
   "cell_type": "code",
   "execution_count": 11,
   "metadata": {},
   "outputs": [
    {
     "data": {
      "text/html": [
       "<div>\n",
       "<style scoped>\n",
       "    .dataframe tbody tr th:only-of-type {\n",
       "        vertical-align: middle;\n",
       "    }\n",
       "\n",
       "    .dataframe tbody tr th {\n",
       "        vertical-align: top;\n",
       "    }\n",
       "\n",
       "    .dataframe thead th {\n",
       "        text-align: right;\n",
       "    }\n",
       "</style>\n",
       "<table border=\"1\" class=\"dataframe\">\n",
       "  <thead>\n",
       "    <tr style=\"text-align: right;\">\n",
       "      <th></th>\n",
       "      <th>Name</th>\n",
       "      <th>POS</th>\n",
       "      <th>Age</th>\n",
       "      <th>HT</th>\n",
       "      <th>WT</th>\n",
       "      <th>College</th>\n",
       "      <th>Salary</th>\n",
       "    </tr>\n",
       "  </thead>\n",
       "  <tbody>\n",
       "    <tr>\n",
       "      <th>0</th>\n",
       "      <td>Bruno Caboclo5</td>\n",
       "      <td>SF</td>\n",
       "      <td>24</td>\n",
       "      <td>6' 9\"</td>\n",
       "      <td>218 lbs</td>\n",
       "      <td>--</td>\n",
       "      <td>$1,845,301</td>\n",
       "    </tr>\n",
       "    <tr>\n",
       "      <th>1</th>\n",
       "      <td>DeMarre Carroll9</td>\n",
       "      <td>SF</td>\n",
       "      <td>33</td>\n",
       "      <td>6' 6\"</td>\n",
       "      <td>215 lbs</td>\n",
       "      <td>Missouri</td>\n",
       "      <td>$512,721</td>\n",
       "    </tr>\n",
       "    <tr>\n",
       "      <th>2</th>\n",
       "      <td>Tyson Chandler19</td>\n",
       "      <td>C</td>\n",
       "      <td>37</td>\n",
       "      <td>7' 0\"</td>\n",
       "      <td>235 lbs</td>\n",
       "      <td>--</td>\n",
       "      <td>$1,620,564</td>\n",
       "    </tr>\n",
       "  </tbody>\n",
       "</table>\n",
       "</div>"
      ],
      "text/plain": [
       "               Name POS  Age     HT       WT   College      Salary\n",
       "0    Bruno Caboclo5  SF   24  6' 9\"  218 lbs        --  $1,845,301\n",
       "1  DeMarre Carroll9  SF   33  6' 6\"  215 lbs  Missouri    $512,721\n",
       "2  Tyson Chandler19   C   37  7' 0\"  235 lbs        --  $1,620,564"
      ]
     },
     "execution_count": 11,
     "metadata": {},
     "output_type": "execute_result"
    }
   ],
   "source": [
    "hou_df[:3]"
   ]
  },
  {
   "cell_type": "markdown",
   "metadata": {},
   "source": [
    "Now let's look to see what datatypes we have."
   ]
  },
  {
   "cell_type": "code",
   "execution_count": 13,
   "metadata": {},
   "outputs": [
    {
     "data": {
      "text/plain": [
       "Name       object\n",
       "POS        object\n",
       "Age         int64\n",
       "HT         object\n",
       "WT         object\n",
       "College    object\n",
       "Salary     object\n",
       "dtype: object"
      ]
     },
     "execution_count": 13,
     "metadata": {},
     "output_type": "execute_result"
    }
   ],
   "source": [
    "hou_df.dtypes"
   ]
  },
  {
   "cell_type": "markdown",
   "metadata": {},
   "source": [
    "In the data above, all of the columns except for age are of type of object, but many of them, height, weight, and salary could be converted into numbers."
   ]
  },
  {
   "cell_type": "markdown",
   "metadata": {},
   "source": [
    "In addition, we also see that each player's name has a number at the of it, likely the player's number. "
   ]
  },
  {
   "cell_type": "markdown",
   "metadata": {},
   "source": [
    "### Cleaning Data"
   ]
  },
  {
   "cell_type": "markdown",
   "metadata": {},
   "source": [
    "Let's start by trying to turn the weight column into a number.  We cannot just use `pd.to_numeric` here, because of the `lb` characters at the end.  Luckily for us, the `pandas.str` methods can quickly help us clean up this data."
   ]
  },
  {
   "cell_type": "markdown",
   "metadata": {},
   "source": [
    "We can access the string methods by going to any series of type `object` and then typing str."
   ]
  },
  {
   "cell_type": "code",
   "execution_count": 18,
   "metadata": {},
   "outputs": [
    {
     "data": {
      "text/plain": [
       "<pandas.core.strings.StringMethods at 0x121ea8450>"
      ]
     },
     "execution_count": 18,
     "metadata": {},
     "output_type": "execute_result"
    }
   ],
   "source": [
    "hou_df['WT'].str."
   ]
  },
  {
   "cell_type": "markdown",
   "metadata": {},
   "source": [
    "From here, we can simply use tab completion to see a list of methods, or we can browse the [pandas documentation](https://pandas.pydata.org/pandas-docs/stable/user_guide/text.html)."
   ]
  },
  {
   "cell_type": "markdown",
   "metadata": {},
   "source": [
    "Now there are a couple of ways that we can clean up this particular series.  The first is to simply slice all but the last three characters, as those are non-numeric."
   ]
  },
  {
   "cell_type": "code",
   "execution_count": 22,
   "metadata": {},
   "outputs": [
    {
     "data": {
      "text/plain": [
       "0    218 lbs\n",
       "1    215 lbs\n",
       "Name: WT, dtype: object"
      ]
     },
     "execution_count": 22,
     "metadata": {},
     "output_type": "execute_result"
    }
   ],
   "source": [
    "hou_df['WT'][:2]"
   ]
  },
  {
   "cell_type": "code",
   "execution_count": 26,
   "metadata": {},
   "outputs": [
    {
     "data": {
      "text/plain": [
       "0    218 \n",
       "1    215 \n",
       "2    235 \n",
       "3    180 \n",
       "Name: WT, dtype: object"
      ]
     },
     "execution_count": 26,
     "metadata": {},
     "output_type": "execute_result"
    }
   ],
   "source": [
    "all_but_last_three = hou_df['WT'].str[:-3]\n",
    "all_but_last_three[:4]"
   ]
  },
  {
   "cell_type": "markdown",
   "metadata": {},
   "source": [
    "Or, we could use replace, to replace ` lbs` with an empty string."
   ]
  },
  {
   "cell_type": "code",
   "execution_count": 28,
   "metadata": {},
   "outputs": [
    {
     "data": {
      "text/plain": [
       "0    218\n",
       "1    215\n",
       "Name: WT, dtype: object"
      ]
     },
     "execution_count": 28,
     "metadata": {},
     "output_type": "execute_result"
    }
   ],
   "source": [
    "replaced = hou_df['WT'].str.replace(' lbs', '')\n",
    "replaced[:2]"
   ]
  },
  {
   "cell_type": "markdown",
   "metadata": {},
   "source": [
    "Another useful method is the `split` method, let's try using that, splitting on the space."
   ]
  },
  {
   "cell_type": "code",
   "execution_count": 43,
   "metadata": {},
   "outputs": [
    {
     "data": {
      "text/plain": [
       "0    [218, lbs]\n",
       "1    [215, lbs]\n",
       "2    [235, lbs]\n",
       "Name: WT, dtype: object"
      ]
     },
     "execution_count": 43,
     "metadata": {},
     "output_type": "execute_result"
    }
   ],
   "source": [
    "split_wt = hou_df['WT'].str.split()\n",
    "split_wt[:3]"
   ]
  },
  {
   "cell_type": "markdown",
   "metadata": {},
   "source": [
    "And from there, can use map to select the last element from each item."
   ]
  },
  {
   "cell_type": "code",
   "execution_count": 45,
   "metadata": {},
   "outputs": [
    {
     "data": {
      "text/plain": [
       "0    218\n",
       "1    215\n",
       "2    235\n",
       "Name: WT, dtype: object"
      ]
     },
     "execution_count": 45,
     "metadata": {},
     "output_type": "execute_result"
    }
   ],
   "source": [
    "wts = split_wt.map(lambda x: x[0])\n",
    "wts[:3]"
   ]
  },
  {
   "cell_type": "markdown",
   "metadata": {},
   "source": [
    "### Summary"
   ]
  },
  {
   "cell_type": "markdown",
   "metadata": {},
   "source": [
    "In this lesson we saw that we can access string methods by accessing a series of type object and then typing `.str`.  From there, we saw that we can `slice` our strings, use the `split` method, or use the `replace` method to modify our data.\n",
    "\n",
    "This will. help convert data to numbers in the future."
   ]
  },
  {
   "cell_type": "markdown",
   "metadata": {},
   "source": [
    "### Resources\n",
    "\n",
    "[pandas string methods](https://pandas.pydata.org/pandas-docs/stable/user_guide/text.html)"
   ]
  },
  {
   "cell_type": "code",
   "execution_count": 52,
   "metadata": {},
   "outputs": [
    {
     "data": {
      "text/plain": [
       "0     218\n",
       "1     215\n",
       "2     235\n",
       "3     180\n",
       "4     209\n",
       "5     200\n",
       "6     215\n",
       "7     235\n",
       "8     220\n",
       "9     250\n",
       "10    220\n",
       "11    207\n",
       "12    195\n",
       "13    200\n",
       "14    215\n",
       "15    245\n",
       "16    200\n",
       "Name: WT, dtype: object"
      ]
     },
     "execution_count": 52,
     "metadata": {},
     "output_type": "execute_result"
    }
   ],
   "source": [
    "hou_df['WT'].str.extract(r'(\\d*)', expand=False)"
   ]
  },
  {
   "cell_type": "code",
   "execution_count": null,
   "metadata": {},
   "outputs": [],
   "source": []
  }
 ],
 "metadata": {
  "kernelspec": {
   "display_name": "Python 3",
   "language": "python",
   "name": "python3"
  },
  "language_info": {
   "codemirror_mode": {
    "name": "ipython",
    "version": 3
   },
   "file_extension": ".py",
   "mimetype": "text/x-python",
   "name": "python",
   "nbconvert_exporter": "python",
   "pygments_lexer": "ipython3",
   "version": "3.7.4"
  }
 },
 "nbformat": 4,
 "nbformat_minor": 4
}
