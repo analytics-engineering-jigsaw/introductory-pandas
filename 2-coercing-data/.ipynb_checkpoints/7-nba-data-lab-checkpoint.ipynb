{
 "cells": [
  {
   "cell_type": "markdown",
   "metadata": {},
   "source": [
    "# NBA Data Lab"
   ]
  },
  {
   "cell_type": "markdown",
   "metadata": {},
   "source": [
    "### Introduction"
   ]
  },
  {
   "cell_type": "markdown",
   "metadata": {},
   "source": [
    "In this lesson, we'll use our knowledge of pandas to coerce data originally drawn from the [sports reference package](https://sportsreference.readthedocs.io/en/stable/)."
   ]
  },
  {
   "cell_type": "markdown",
   "metadata": {},
   "source": [
    "### Loading the data"
   ]
  },
  {
   "cell_type": "code",
   "execution_count": 148,
   "metadata": {},
   "outputs": [],
   "source": [
    "import pandas as pd\n",
    "url = \"https://raw.githubusercontent.com/jigsawlabs-student/introductory-pandas/master/2-coercing-data/nba_players.csv?token=ANKFJMFY7KDGORDKHUCCMUK6QVGFA\"\n",
    "df = pd.read_csv(url, index_col = 0)"
   ]
  },
  {
   "cell_type": "code",
   "execution_count": 149,
   "metadata": {},
   "outputs": [
    {
     "data": {
      "text/html": [
       "<div>\n",
       "<style scoped>\n",
       "    .dataframe tbody tr th:only-of-type {\n",
       "        vertical-align: middle;\n",
       "    }\n",
       "\n",
       "    .dataframe tbody tr th {\n",
       "        vertical-align: top;\n",
       "    }\n",
       "\n",
       "    .dataframe thead th {\n",
       "        text-align: right;\n",
       "    }\n",
       "</style>\n",
       "<table border=\"1\" class=\"dataframe\">\n",
       "  <thead>\n",
       "    <tr style=\"text-align: right;\">\n",
       "      <th></th>\n",
       "      <th>player_id</th>\n",
       "      <th>name</th>\n",
       "      <th>weight</th>\n",
       "      <th>birth_date</th>\n",
       "      <th>height</th>\n",
       "      <th>nationality</th>\n",
       "      <th>team_abbreviation</th>\n",
       "      <th>most_recent_season</th>\n",
       "      <th>box_plus_minus</th>\n",
       "      <th>games_played</th>\n",
       "      <th>games_started</th>\n",
       "      <th>player_efficiency_rating</th>\n",
       "      <th>three_point_percentage</th>\n",
       "      <th>true_shooting_percentage</th>\n",
       "      <th>two_point_attempts</th>\n",
       "      <th>two_point_percentage</th>\n",
       "      <th>two_pointers</th>\n",
       "    </tr>\n",
       "  </thead>\n",
       "  <tbody>\n",
       "    <tr>\n",
       "      <th>0</th>\n",
       "      <td>klebima01</td>\n",
       "      <td>Maxi Kleber</td>\n",
       "      <td>240lb</td>\n",
       "      <td>1992-01-29</td>\n",
       "      <td>6-10</td>\n",
       "      <td>Germany</td>\n",
       "      <td>DAL</td>\n",
       "      <td>2018-19</td>\n",
       "      <td>0.3</td>\n",
       "      <td>209.0</td>\n",
       "      <td>75.0</td>\n",
       "      <td>13.4</td>\n",
       "      <td>0.354</td>\n",
       "      <td>0.588</td>\n",
       "      <td>529.0</td>\n",
       "      <td>0.597</td>\n",
       "      <td>316.0</td>\n",
       "    </tr>\n",
       "    <tr>\n",
       "      <th>1</th>\n",
       "      <td>wrighde01</td>\n",
       "      <td>Delon Wright</td>\n",
       "      <td>183lb</td>\n",
       "      <td>1992-04-26</td>\n",
       "      <td>6-5</td>\n",
       "      <td>United States of America</td>\n",
       "      <td>DAL</td>\n",
       "      <td>2018-19</td>\n",
       "      <td>2.2</td>\n",
       "      <td>263.0</td>\n",
       "      <td>23.0</td>\n",
       "      <td>16.0</td>\n",
       "      <td>0.345</td>\n",
       "      <td>0.549</td>\n",
       "      <td>1086.0</td>\n",
       "      <td>0.498</td>\n",
       "      <td>541.0</td>\n",
       "    </tr>\n",
       "  </tbody>\n",
       "</table>\n",
       "</div>"
      ],
      "text/plain": [
       "   player_id          name weight  birth_date height  \\\n",
       "0  klebima01   Maxi Kleber  240lb  1992-01-29   6-10   \n",
       "1  wrighde01  Delon Wright  183lb  1992-04-26    6-5   \n",
       "\n",
       "                nationality team_abbreviation most_recent_season  \\\n",
       "0                   Germany               DAL            2018-19   \n",
       "1  United States of America               DAL            2018-19   \n",
       "\n",
       "   box_plus_minus  games_played  games_started  player_efficiency_rating  \\\n",
       "0             0.3         209.0           75.0                      13.4   \n",
       "1             2.2         263.0           23.0                      16.0   \n",
       "\n",
       "   three_point_percentage  true_shooting_percentage  two_point_attempts  \\\n",
       "0                   0.354                     0.588               529.0   \n",
       "1                   0.345                     0.549              1086.0   \n",
       "\n",
       "   two_point_percentage  two_pointers  \n",
       "0                 0.597         316.0  \n",
       "1                 0.498         541.0  "
      ]
     },
     "execution_count": 149,
     "metadata": {},
     "output_type": "execute_result"
    }
   ],
   "source": [
    "df[:2]"
   ]
  },
  {
   "cell_type": "markdown",
   "metadata": {},
   "source": [
    "### Exploring the data"
   ]
  },
  {
   "cell_type": "markdown",
   "metadata": {},
   "source": [
    "Let's start off by looking at the different datatypes of the various columns."
   ]
  },
  {
   "cell_type": "code",
   "execution_count": 144,
   "metadata": {},
   "outputs": [],
   "source": [
    "\n",
    "\n",
    "# player_id                    object\n",
    "# name                         object\n",
    "# weight                       object\n",
    "# birth_date                   object\n",
    "# height                       object\n",
    "# nationality                  object\n",
    "# team_abbreviation            object\n",
    "# most_recent_season           object\n",
    "# box_plus_minus              float64\n",
    "# ...\n",
    "# ..."
   ]
  },
  {
   "cell_type": "markdown",
   "metadata": {},
   "source": [
    "As we can see the initial datatypes are all of type object, while the later ones are of type string.  Let's just select the columns of type object, and then we can get to work coercing some of the columns."
   ]
  },
  {
   "cell_type": "code",
   "execution_count": 142,
   "metadata": {},
   "outputs": [],
   "source": [
    "players_object_df = None"
   ]
  },
  {
   "cell_type": "code",
   "execution_count": 157,
   "metadata": {},
   "outputs": [],
   "source": [
    "\n",
    "players_object_df.columns\n",
    "# Index(['player_id', 'name', 'weight', 'birth_date', 'height', 'nationality',\n",
    "#        'team_abbreviation', 'most_recent_season'],\n",
    "#       dtype='object')"
   ]
  },
  {
   "cell_type": "markdown",
   "metadata": {},
   "source": [
    "Ok, now columns like `weight`, `birth_date`, `height`, and `most_recent_season` are candidates to coerce into different datatypes."
   ]
  },
  {
   "cell_type": "markdown",
   "metadata": {},
   "source": [
    "Let's just select those columns."
   ]
  },
  {
   "cell_type": "code",
   "execution_count": 158,
   "metadata": {},
   "outputs": [],
   "source": [
    "df_candidates = None\n"
   ]
  },
  {
   "cell_type": "code",
   "execution_count": null,
   "metadata": {},
   "outputs": [],
   "source": [
    "df_candidates[:3]\n",
    "\n",
    "# \tweight\tbirth_date\theight\n",
    "# 0\t240lb\t1992-01-29\t6-10\n",
    "# 1\t183lb\t1992-04-26\t6-5\n",
    "# 2\t220lb\t1993-05-04\t6-7"
   ]
  },
  {
   "cell_type": "markdown",
   "metadata": {},
   "source": [
    "### Changing Birthdate"
   ]
  },
  {
   "cell_type": "markdown",
   "metadata": {},
   "source": [
    "Ok, let's start off by changing the birth_date column to be of type `datetime`."
   ]
  },
  {
   "cell_type": "code",
   "execution_count": 159,
   "metadata": {},
   "outputs": [],
   "source": [
    "birth_date_as_dt = None \n",
    "\n"
   ]
  },
  {
   "cell_type": "code",
   "execution_count": 78,
   "metadata": {},
   "outputs": [
    {
     "data": {
      "text/plain": [
       "dtype('<M8[ns]')"
      ]
     },
     "execution_count": 78,
     "metadata": {},
     "output_type": "execute_result"
    }
   ],
   "source": [
    "birth_date_as_dt.dtype\n",
    "# dtype('<M8[ns]')"
   ]
  },
  {
   "cell_type": "markdown",
   "metadata": {},
   "source": [
    "Now that it is properly coerced, we can update the `df_candidates` dataframe with it."
   ]
  },
  {
   "cell_type": "markdown",
   "metadata": {},
   "source": [
    "> Notice how assign works, we'll ask you to use it later."
   ]
  },
  {
   "cell_type": "code",
   "execution_count": 79,
   "metadata": {},
   "outputs": [],
   "source": [
    "df_candidates = df_candidates.assign(birth_date = birth_date_as_dt)"
   ]
  },
  {
   "cell_type": "code",
   "execution_count": 80,
   "metadata": {},
   "outputs": [
    {
     "data": {
      "text/plain": [
       "weight                        object\n",
       "birth_date            datetime64[ns]\n",
       "height                        object\n",
       "most_recent_season            object\n",
       "dtype: object"
      ]
     },
     "execution_count": 80,
     "metadata": {},
     "output_type": "execute_result"
    }
   ],
   "source": [
    "df_candidates.dtypes\n",
    "\n",
    "# weight                        object\n",
    "# birth_date            datetime64[ns]\n",
    "# height                        object\n",
    "# most_recent_season            object\n",
    "# dtype: object"
   ]
  },
  {
   "cell_type": "markdown",
   "metadata": {},
   "source": [
    "### Weight"
   ]
  },
  {
   "cell_type": "markdown",
   "metadata": {},
   "source": [
    "Now let's move onto coercing the weight column.  As we saw, there are a number of ways that we can change weight, so that we only have a digits in each entry.  Try slicing the string, and then try using the replace method to coerce the string so that it only includes digits. \n",
    "\n",
    "* Using slice"
   ]
  },
  {
   "cell_type": "code",
   "execution_count": 160,
   "metadata": {},
   "outputs": [],
   "source": [
    "sliced_weights = None\n"
   ]
  },
  {
   "cell_type": "code",
   "execution_count": null,
   "metadata": {},
   "outputs": [],
   "source": [
    "sliced_weights[:3]\n",
    "\n",
    "# 0    240\n",
    "# 1    183\n",
    "# 2    220\n",
    "# Name: weight, dtype: object"
   ]
  },
  {
   "cell_type": "markdown",
   "metadata": {},
   "source": [
    "* Using replace"
   ]
  },
  {
   "cell_type": "code",
   "execution_count": 161,
   "metadata": {},
   "outputs": [],
   "source": [
    "replaced_weights = None"
   ]
  },
  {
   "cell_type": "code",
   "execution_count": null,
   "metadata": {},
   "outputs": [],
   "source": [
    "replaced_weights[:2]\n",
    "\n",
    "# 0    240\n",
    "# 1    183\n",
    "# Name: weight, dtype: object"
   ]
  },
  {
   "cell_type": "markdown",
   "metadata": {},
   "source": [
    "Now let's change the series to type integer."
   ]
  },
  {
   "cell_type": "code",
   "execution_count": 162,
   "metadata": {},
   "outputs": [],
   "source": [
    "import numpy as np\n",
    "weight_int = None"
   ]
  },
  {
   "cell_type": "code",
   "execution_count": 84,
   "metadata": {},
   "outputs": [
    {
     "data": {
      "text/plain": [
       "dtype('int64')"
      ]
     },
     "execution_count": 84,
     "metadata": {},
     "output_type": "execute_result"
    }
   ],
   "source": [
    "weight_int.dtype\n",
    "# dtype('int64')"
   ]
  },
  {
   "cell_type": "markdown",
   "metadata": {},
   "source": [
    "And then we'll add it to our `df_candidates`."
   ]
  },
  {
   "cell_type": "markdown",
   "metadata": {},
   "source": [
    "> We'll assign the column for you."
   ]
  },
  {
   "cell_type": "code",
   "execution_count": 85,
   "metadata": {},
   "outputs": [],
   "source": [
    "df_candidates = df_candidates.assign(weight = weight_int)"
   ]
  },
  {
   "cell_type": "code",
   "execution_count": 86,
   "metadata": {},
   "outputs": [
    {
     "data": {
      "text/plain": [
       "weight                         int64\n",
       "birth_date            datetime64[ns]\n",
       "height                        object\n",
       "most_recent_season            object\n",
       "dtype: object"
      ]
     },
     "execution_count": 86,
     "metadata": {},
     "output_type": "execute_result"
    }
   ],
   "source": [
    "df_candidates.dtypes\n",
    "\n",
    "\n",
    "# weight                         int64\n",
    "# birth_date            datetime64[ns]\n",
    "# height                        object\n",
    "# most_recent_season            object\n",
    "# dtype: object"
   ]
  },
  {
   "cell_type": "markdown",
   "metadata": {},
   "source": [
    "### Coercing Season"
   ]
  },
  {
   "cell_type": "markdown",
   "metadata": {},
   "source": [
    "Now let's change the `most_recent_season` column.  Change it so that it only lists the latter year.  (Eg. 2018-19 should be changed to 2019, and 2017-2018 to 2018)."
   ]
  },
  {
   "cell_type": "code",
   "execution_count": 87,
   "metadata": {},
   "outputs": [],
   "source": []
  },
  {
   "cell_type": "code",
   "execution_count": 88,
   "metadata": {},
   "outputs": [
    {
     "data": {
      "text/plain": [
       "0    2019.0\n",
       "1    2019.0\n",
       "2    2019.0\n",
       "Name: most_recent_season, dtype: float64"
      ]
     },
     "execution_count": 88,
     "metadata": {},
     "output_type": "execute_result"
    }
   ],
   "source": [
    "recent_season[:3]\n",
    "\n",
    "# 0    2019.0\n",
    "# 1    2019.0\n",
    "# 2    2019.0"
   ]
  },
  {
   "cell_type": "markdown",
   "metadata": {},
   "source": [
    "Now update `df_candidates` to use the `recent_season` column, using the `assign` method."
   ]
  },
  {
   "cell_type": "code",
   "execution_count": 164,
   "metadata": {},
   "outputs": [],
   "source": [
    "# update df_candidates here"
   ]
  },
  {
   "cell_type": "code",
   "execution_count": null,
   "metadata": {},
   "outputs": [],
   "source": [
    "df_candidates.dtypes\n",
    "\n",
    "# weight                         int64\n",
    "# birth_date            datetime64[ns]\n",
    "# height                        object\n",
    "# most_recent_season           float64\n",
    "# dtype: object"
   ]
  },
  {
   "cell_type": "markdown",
   "metadata": {},
   "source": [
    "### Changing Height"
   ]
  },
  {
   "cell_type": "markdown",
   "metadata": {},
   "source": [
    "Here we'll need to use the height series to calculate the height in inches of each player.  Assign this new series to the variable `total_inches`."
   ]
  },
  {
   "cell_type": "code",
   "execution_count": 166,
   "metadata": {},
   "outputs": [],
   "source": [
    "# "
   ]
  },
  {
   "cell_type": "code",
   "execution_count": 108,
   "metadata": {},
   "outputs": [
    {
     "data": {
      "text/plain": [
       "0    82\n",
       "1    77\n",
       "2    79\n",
       "3    77\n",
       "4    74\n",
       "Name: height, dtype: int64"
      ]
     },
     "execution_count": 108,
     "metadata": {},
     "output_type": "execute_result"
    }
   ],
   "source": [
    "total_inches[:5]\n",
    "# 0    82\n",
    "# 1    77\n",
    "# 2    79\n",
    "# 3    77\n",
    "# 4    74"
   ]
  },
  {
   "cell_type": "markdown",
   "metadata": {},
   "source": [
    "Next, update `df_candidates` to use the new column."
   ]
  },
  {
   "cell_type": "code",
   "execution_count": 167,
   "metadata": {},
   "outputs": [],
   "source": [
    "# write code here"
   ]
  },
  {
   "cell_type": "code",
   "execution_count": 114,
   "metadata": {},
   "outputs": [
    {
     "data": {
      "text/plain": [
       "weight                         int64\n",
       "birth_date            datetime64[ns]\n",
       "height                         int64\n",
       "most_recent_season           float64\n",
       "dtype: object"
      ]
     },
     "execution_count": 114,
     "metadata": {},
     "output_type": "execute_result"
    }
   ],
   "source": [
    "df_candidates.dtypes\n",
    "# weight                         int64\n",
    "# birth_date            datetime64[ns]\n",
    "# height                         int64\n",
    "# most_recent_season           float64\n",
    "# dtype: object"
   ]
  },
  {
   "cell_type": "markdown",
   "metadata": {},
   "source": [
    "### Updating the original dataframe"
   ]
  },
  {
   "cell_type": "markdown",
   "metadata": {},
   "source": [
    "Now that we have coerced all of our data, it's time to combine this with the data from our original dataframe."
   ]
  },
  {
   "cell_type": "markdown",
   "metadata": {},
   "source": [
    "> Here's our original dataframe."
   ]
  },
  {
   "cell_type": "code",
   "execution_count": 115,
   "metadata": {},
   "outputs": [
    {
     "data": {
      "text/html": [
       "<div>\n",
       "<style scoped>\n",
       "    .dataframe tbody tr th:only-of-type {\n",
       "        vertical-align: middle;\n",
       "    }\n",
       "\n",
       "    .dataframe tbody tr th {\n",
       "        vertical-align: top;\n",
       "    }\n",
       "\n",
       "    .dataframe thead th {\n",
       "        text-align: right;\n",
       "    }\n",
       "</style>\n",
       "<table border=\"1\" class=\"dataframe\">\n",
       "  <thead>\n",
       "    <tr style=\"text-align: right;\">\n",
       "      <th></th>\n",
       "      <th>player_id</th>\n",
       "      <th>name</th>\n",
       "      <th>weight</th>\n",
       "      <th>birth_date</th>\n",
       "      <th>height</th>\n",
       "      <th>nationality</th>\n",
       "      <th>team_abbreviation</th>\n",
       "      <th>most_recent_season</th>\n",
       "      <th>box_plus_minus</th>\n",
       "      <th>games_played</th>\n",
       "      <th>games_started</th>\n",
       "      <th>player_efficiency_rating</th>\n",
       "      <th>three_point_percentage</th>\n",
       "      <th>true_shooting_percentage</th>\n",
       "      <th>two_point_attempts</th>\n",
       "      <th>two_point_percentage</th>\n",
       "      <th>two_pointers</th>\n",
       "    </tr>\n",
       "  </thead>\n",
       "  <tbody>\n",
       "    <tr>\n",
       "      <th>0</th>\n",
       "      <td>klebima01</td>\n",
       "      <td>Maxi Kleber</td>\n",
       "      <td>240lb</td>\n",
       "      <td>1992-01-29</td>\n",
       "      <td>6-10</td>\n",
       "      <td>Germany</td>\n",
       "      <td>DAL</td>\n",
       "      <td>2018-19</td>\n",
       "      <td>0.3</td>\n",
       "      <td>209.0</td>\n",
       "      <td>75.0</td>\n",
       "      <td>13.4</td>\n",
       "      <td>0.354</td>\n",
       "      <td>0.588</td>\n",
       "      <td>529.0</td>\n",
       "      <td>0.597</td>\n",
       "      <td>316.0</td>\n",
       "    </tr>\n",
       "    <tr>\n",
       "      <th>1</th>\n",
       "      <td>wrighde01</td>\n",
       "      <td>Delon Wright</td>\n",
       "      <td>183lb</td>\n",
       "      <td>1992-04-26</td>\n",
       "      <td>6-5</td>\n",
       "      <td>United States of America</td>\n",
       "      <td>DAL</td>\n",
       "      <td>2018-19</td>\n",
       "      <td>2.2</td>\n",
       "      <td>263.0</td>\n",
       "      <td>23.0</td>\n",
       "      <td>16.0</td>\n",
       "      <td>0.345</td>\n",
       "      <td>0.549</td>\n",
       "      <td>1086.0</td>\n",
       "      <td>0.498</td>\n",
       "      <td>541.0</td>\n",
       "    </tr>\n",
       "  </tbody>\n",
       "</table>\n",
       "</div>"
      ],
      "text/plain": [
       "   player_id          name weight  birth_date height  \\\n",
       "0  klebima01   Maxi Kleber  240lb  1992-01-29   6-10   \n",
       "1  wrighde01  Delon Wright  183lb  1992-04-26    6-5   \n",
       "\n",
       "                nationality team_abbreviation most_recent_season  \\\n",
       "0                   Germany               DAL            2018-19   \n",
       "1  United States of America               DAL            2018-19   \n",
       "\n",
       "   box_plus_minus  games_played  games_started  player_efficiency_rating  \\\n",
       "0             0.3         209.0           75.0                      13.4   \n",
       "1             2.2         263.0           23.0                      16.0   \n",
       "\n",
       "   three_point_percentage  true_shooting_percentage  two_point_attempts  \\\n",
       "0                   0.354                     0.588               529.0   \n",
       "1                   0.345                     0.549              1086.0   \n",
       "\n",
       "   two_point_percentage  two_pointers  \n",
       "0                 0.597         316.0  \n",
       "1                 0.498         541.0  "
      ]
     },
     "execution_count": 115,
     "metadata": {},
     "output_type": "execute_result"
    }
   ],
   "source": [
    "df[:2]"
   ]
  },
  {
   "cell_type": "markdown",
   "metadata": {},
   "source": [
    "> And these are the columns we wish to replace."
   ]
  },
  {
   "cell_type": "code",
   "execution_count": 116,
   "metadata": {},
   "outputs": [
    {
     "data": {
      "text/plain": [
       "Index(['weight', 'birth_date', 'height', 'most_recent_season'], dtype='object')"
      ]
     },
     "execution_count": 116,
     "metadata": {},
     "output_type": "execute_result"
    }
   ],
   "source": [
    "df_candidates.columns"
   ]
  },
  {
   "cell_type": "markdown",
   "metadata": {},
   "source": [
    "> So we first select all of the columns from our original dataframe that we will not be replacing."
   ]
  },
  {
   "cell_type": "code",
   "execution_count": 123,
   "metadata": {},
   "outputs": [],
   "source": [
    "original_cols = df.loc[:, ~df.columns.isin(df_candidates.columns)]"
   ]
  },
  {
   "cell_type": "code",
   "execution_count": 125,
   "metadata": {},
   "outputs": [
    {
     "data": {
      "text/html": [
       "<div>\n",
       "<style scoped>\n",
       "    .dataframe tbody tr th:only-of-type {\n",
       "        vertical-align: middle;\n",
       "    }\n",
       "\n",
       "    .dataframe tbody tr th {\n",
       "        vertical-align: top;\n",
       "    }\n",
       "\n",
       "    .dataframe thead th {\n",
       "        text-align: right;\n",
       "    }\n",
       "</style>\n",
       "<table border=\"1\" class=\"dataframe\">\n",
       "  <thead>\n",
       "    <tr style=\"text-align: right;\">\n",
       "      <th></th>\n",
       "      <th>player_id</th>\n",
       "      <th>name</th>\n",
       "      <th>nationality</th>\n",
       "      <th>team_abbreviation</th>\n",
       "      <th>box_plus_minus</th>\n",
       "      <th>games_played</th>\n",
       "      <th>games_started</th>\n",
       "      <th>player_efficiency_rating</th>\n",
       "      <th>three_point_percentage</th>\n",
       "      <th>true_shooting_percentage</th>\n",
       "      <th>two_point_attempts</th>\n",
       "      <th>two_point_percentage</th>\n",
       "      <th>two_pointers</th>\n",
       "    </tr>\n",
       "  </thead>\n",
       "  <tbody>\n",
       "    <tr>\n",
       "      <th>0</th>\n",
       "      <td>klebima01</td>\n",
       "      <td>Maxi Kleber</td>\n",
       "      <td>Germany</td>\n",
       "      <td>DAL</td>\n",
       "      <td>0.3</td>\n",
       "      <td>209.0</td>\n",
       "      <td>75.0</td>\n",
       "      <td>13.4</td>\n",
       "      <td>0.354</td>\n",
       "      <td>0.588</td>\n",
       "      <td>529.0</td>\n",
       "      <td>0.597</td>\n",
       "      <td>316.0</td>\n",
       "    </tr>\n",
       "    <tr>\n",
       "      <th>1</th>\n",
       "      <td>wrighde01</td>\n",
       "      <td>Delon Wright</td>\n",
       "      <td>United States of America</td>\n",
       "      <td>DAL</td>\n",
       "      <td>2.2</td>\n",
       "      <td>263.0</td>\n",
       "      <td>23.0</td>\n",
       "      <td>16.0</td>\n",
       "      <td>0.345</td>\n",
       "      <td>0.549</td>\n",
       "      <td>1086.0</td>\n",
       "      <td>0.498</td>\n",
       "      <td>541.0</td>\n",
       "    </tr>\n",
       "  </tbody>\n",
       "</table>\n",
       "</div>"
      ],
      "text/plain": [
       "   player_id          name               nationality team_abbreviation  \\\n",
       "0  klebima01   Maxi Kleber                   Germany               DAL   \n",
       "1  wrighde01  Delon Wright  United States of America               DAL   \n",
       "\n",
       "   box_plus_minus  games_played  games_started  player_efficiency_rating  \\\n",
       "0             0.3         209.0           75.0                      13.4   \n",
       "1             2.2         263.0           23.0                      16.0   \n",
       "\n",
       "   three_point_percentage  true_shooting_percentage  two_point_attempts  \\\n",
       "0                   0.354                     0.588               529.0   \n",
       "1                   0.345                     0.549              1086.0   \n",
       "\n",
       "   two_point_percentage  two_pointers  \n",
       "0                 0.597         316.0  \n",
       "1                 0.498         541.0  "
      ]
     },
     "execution_count": 125,
     "metadata": {},
     "output_type": "execute_result"
    }
   ],
   "source": [
    "original_cols[:2]"
   ]
  },
  {
   "cell_type": "markdown",
   "metadata": {},
   "source": [
    "> And then we merge the columns from the original dataframe, with the newly coerced dataframe."
   ]
  },
  {
   "cell_type": "code",
   "execution_count": 130,
   "metadata": {},
   "outputs": [],
   "source": [
    "updated_players = df_candidates.merge(original_cols, left_index=True, right_index=True)"
   ]
  },
  {
   "cell_type": "code",
   "execution_count": 131,
   "metadata": {},
   "outputs": [
    {
     "data": {
      "text/html": [
       "<div>\n",
       "<style scoped>\n",
       "    .dataframe tbody tr th:only-of-type {\n",
       "        vertical-align: middle;\n",
       "    }\n",
       "\n",
       "    .dataframe tbody tr th {\n",
       "        vertical-align: top;\n",
       "    }\n",
       "\n",
       "    .dataframe thead th {\n",
       "        text-align: right;\n",
       "    }\n",
       "</style>\n",
       "<table border=\"1\" class=\"dataframe\">\n",
       "  <thead>\n",
       "    <tr style=\"text-align: right;\">\n",
       "      <th></th>\n",
       "      <th>weight</th>\n",
       "      <th>birth_date</th>\n",
       "      <th>height</th>\n",
       "      <th>most_recent_season</th>\n",
       "      <th>player_id</th>\n",
       "      <th>name</th>\n",
       "      <th>nationality</th>\n",
       "      <th>team_abbreviation</th>\n",
       "      <th>box_plus_minus</th>\n",
       "      <th>games_played</th>\n",
       "      <th>games_started</th>\n",
       "      <th>player_efficiency_rating</th>\n",
       "      <th>three_point_percentage</th>\n",
       "      <th>true_shooting_percentage</th>\n",
       "      <th>two_point_attempts</th>\n",
       "      <th>two_point_percentage</th>\n",
       "      <th>two_pointers</th>\n",
       "    </tr>\n",
       "  </thead>\n",
       "  <tbody>\n",
       "    <tr>\n",
       "      <th>0</th>\n",
       "      <td>240</td>\n",
       "      <td>1992-01-29</td>\n",
       "      <td>82</td>\n",
       "      <td>2019.0</td>\n",
       "      <td>klebima01</td>\n",
       "      <td>Maxi Kleber</td>\n",
       "      <td>Germany</td>\n",
       "      <td>DAL</td>\n",
       "      <td>0.3</td>\n",
       "      <td>209.0</td>\n",
       "      <td>75.0</td>\n",
       "      <td>13.4</td>\n",
       "      <td>0.354</td>\n",
       "      <td>0.588</td>\n",
       "      <td>529.0</td>\n",
       "      <td>0.597</td>\n",
       "      <td>316.0</td>\n",
       "    </tr>\n",
       "    <tr>\n",
       "      <th>1</th>\n",
       "      <td>183</td>\n",
       "      <td>1992-04-26</td>\n",
       "      <td>77</td>\n",
       "      <td>2019.0</td>\n",
       "      <td>wrighde01</td>\n",
       "      <td>Delon Wright</td>\n",
       "      <td>United States of America</td>\n",
       "      <td>DAL</td>\n",
       "      <td>2.2</td>\n",
       "      <td>263.0</td>\n",
       "      <td>23.0</td>\n",
       "      <td>16.0</td>\n",
       "      <td>0.345</td>\n",
       "      <td>0.549</td>\n",
       "      <td>1086.0</td>\n",
       "      <td>0.498</td>\n",
       "      <td>541.0</td>\n",
       "    </tr>\n",
       "  </tbody>\n",
       "</table>\n",
       "</div>"
      ],
      "text/plain": [
       "   weight birth_date  height  most_recent_season  player_id          name  \\\n",
       "0     240 1992-01-29      82              2019.0  klebima01   Maxi Kleber   \n",
       "1     183 1992-04-26      77              2019.0  wrighde01  Delon Wright   \n",
       "\n",
       "                nationality team_abbreviation  box_plus_minus  games_played  \\\n",
       "0                   Germany               DAL             0.3         209.0   \n",
       "1  United States of America               DAL             2.2         263.0   \n",
       "\n",
       "   games_started  player_efficiency_rating  three_point_percentage  \\\n",
       "0           75.0                      13.4                   0.354   \n",
       "1           23.0                      16.0                   0.345   \n",
       "\n",
       "   true_shooting_percentage  two_point_attempts  two_point_percentage  \\\n",
       "0                     0.588               529.0                 0.597   \n",
       "1                     0.549              1086.0                 0.498   \n",
       "\n",
       "   two_pointers  \n",
       "0         316.0  \n",
       "1         541.0  "
      ]
     },
     "execution_count": 131,
     "metadata": {},
     "output_type": "execute_result"
    }
   ],
   "source": [
    "updated_players[:2]"
   ]
  },
  {
   "cell_type": "markdown",
   "metadata": {},
   "source": [
    "Let's make sure that the data lines up with our original."
   ]
  },
  {
   "cell_type": "code",
   "execution_count": 132,
   "metadata": {},
   "outputs": [
    {
     "data": {
      "text/html": [
       "<div>\n",
       "<style scoped>\n",
       "    .dataframe tbody tr th:only-of-type {\n",
       "        vertical-align: middle;\n",
       "    }\n",
       "\n",
       "    .dataframe tbody tr th {\n",
       "        vertical-align: top;\n",
       "    }\n",
       "\n",
       "    .dataframe thead th {\n",
       "        text-align: right;\n",
       "    }\n",
       "</style>\n",
       "<table border=\"1\" class=\"dataframe\">\n",
       "  <thead>\n",
       "    <tr style=\"text-align: right;\">\n",
       "      <th></th>\n",
       "      <th>player_id</th>\n",
       "      <th>name</th>\n",
       "      <th>weight</th>\n",
       "      <th>birth_date</th>\n",
       "      <th>height</th>\n",
       "      <th>nationality</th>\n",
       "      <th>team_abbreviation</th>\n",
       "      <th>most_recent_season</th>\n",
       "      <th>box_plus_minus</th>\n",
       "      <th>games_played</th>\n",
       "      <th>games_started</th>\n",
       "      <th>player_efficiency_rating</th>\n",
       "      <th>three_point_percentage</th>\n",
       "      <th>true_shooting_percentage</th>\n",
       "      <th>two_point_attempts</th>\n",
       "      <th>two_point_percentage</th>\n",
       "      <th>two_pointers</th>\n",
       "    </tr>\n",
       "  </thead>\n",
       "  <tbody>\n",
       "    <tr>\n",
       "      <th>0</th>\n",
       "      <td>klebima01</td>\n",
       "      <td>Maxi Kleber</td>\n",
       "      <td>240lb</td>\n",
       "      <td>1992-01-29</td>\n",
       "      <td>6-10</td>\n",
       "      <td>Germany</td>\n",
       "      <td>DAL</td>\n",
       "      <td>2018-19</td>\n",
       "      <td>0.3</td>\n",
       "      <td>209.0</td>\n",
       "      <td>75.0</td>\n",
       "      <td>13.4</td>\n",
       "      <td>0.354</td>\n",
       "      <td>0.588</td>\n",
       "      <td>529.0</td>\n",
       "      <td>0.597</td>\n",
       "      <td>316.0</td>\n",
       "    </tr>\n",
       "    <tr>\n",
       "      <th>1</th>\n",
       "      <td>wrighde01</td>\n",
       "      <td>Delon Wright</td>\n",
       "      <td>183lb</td>\n",
       "      <td>1992-04-26</td>\n",
       "      <td>6-5</td>\n",
       "      <td>United States of America</td>\n",
       "      <td>DAL</td>\n",
       "      <td>2018-19</td>\n",
       "      <td>2.2</td>\n",
       "      <td>263.0</td>\n",
       "      <td>23.0</td>\n",
       "      <td>16.0</td>\n",
       "      <td>0.345</td>\n",
       "      <td>0.549</td>\n",
       "      <td>1086.0</td>\n",
       "      <td>0.498</td>\n",
       "      <td>541.0</td>\n",
       "    </tr>\n",
       "  </tbody>\n",
       "</table>\n",
       "</div>"
      ],
      "text/plain": [
       "   player_id          name weight  birth_date height  \\\n",
       "0  klebima01   Maxi Kleber  240lb  1992-01-29   6-10   \n",
       "1  wrighde01  Delon Wright  183lb  1992-04-26    6-5   \n",
       "\n",
       "                nationality team_abbreviation most_recent_season  \\\n",
       "0                   Germany               DAL            2018-19   \n",
       "1  United States of America               DAL            2018-19   \n",
       "\n",
       "   box_plus_minus  games_played  games_started  player_efficiency_rating  \\\n",
       "0             0.3         209.0           75.0                      13.4   \n",
       "1             2.2         263.0           23.0                      16.0   \n",
       "\n",
       "   three_point_percentage  true_shooting_percentage  two_point_attempts  \\\n",
       "0                   0.354                     0.588               529.0   \n",
       "1                   0.345                     0.549              1086.0   \n",
       "\n",
       "   two_point_percentage  two_pointers  \n",
       "0                 0.597         316.0  \n",
       "1                 0.498         541.0  "
      ]
     },
     "execution_count": 132,
     "metadata": {},
     "output_type": "execute_result"
    }
   ],
   "source": [
    "df[:2]"
   ]
  },
  {
   "cell_type": "markdown",
   "metadata": {},
   "source": [
    "And then, let's reorder the columns of our `updated_players` dataframe."
   ]
  },
  {
   "cell_type": "code",
   "execution_count": 133,
   "metadata": {},
   "outputs": [
    {
     "data": {
      "text/plain": [
       "Index(['weight', 'birth_date', 'height', 'most_recent_season', 'player_id',\n",
       "       'name', 'nationality', 'team_abbreviation', 'box_plus_minus',\n",
       "       'games_played', 'games_started', 'player_efficiency_rating',\n",
       "       'three_point_percentage', 'true_shooting_percentage',\n",
       "       'two_point_attempts', 'two_point_percentage', 'two_pointers'],\n",
       "      dtype='object')"
      ]
     },
     "execution_count": 133,
     "metadata": {},
     "output_type": "execute_result"
    }
   ],
   "source": [
    "updated_players.columns"
   ]
  },
  {
   "cell_type": "code",
   "execution_count": 137,
   "metadata": {},
   "outputs": [
    {
     "data": {
      "text/plain": [
       "Index(['player_id', 'name', 'weight', 'birth_date', 'height', 'nationality',\n",
       "       'team_abbreviation', 'most_recent_season', 'box_plus_minus',\n",
       "       'games_played', 'games_started', 'player_efficiency_rating',\n",
       "       'three_point_percentage', 'true_shooting_percentage',\n",
       "       'two_point_attempts', 'two_point_percentage', 'two_pointers'],\n",
       "      dtype='object')"
      ]
     },
     "execution_count": 137,
     "metadata": {},
     "output_type": "execute_result"
    }
   ],
   "source": [
    "df.columns"
   ]
  },
  {
   "cell_type": "markdown",
   "metadata": {},
   "source": [
    "We can do so, by using the original dataframe's columns with the `loc` method."
   ]
  },
  {
   "cell_type": "code",
   "execution_count": 141,
   "metadata": {},
   "outputs": [
    {
     "data": {
      "text/html": [
       "<div>\n",
       "<style scoped>\n",
       "    .dataframe tbody tr th:only-of-type {\n",
       "        vertical-align: middle;\n",
       "    }\n",
       "\n",
       "    .dataframe tbody tr th {\n",
       "        vertical-align: top;\n",
       "    }\n",
       "\n",
       "    .dataframe thead th {\n",
       "        text-align: right;\n",
       "    }\n",
       "</style>\n",
       "<table border=\"1\" class=\"dataframe\">\n",
       "  <thead>\n",
       "    <tr style=\"text-align: right;\">\n",
       "      <th></th>\n",
       "      <th>player_id</th>\n",
       "      <th>name</th>\n",
       "      <th>weight</th>\n",
       "      <th>birth_date</th>\n",
       "      <th>height</th>\n",
       "      <th>nationality</th>\n",
       "      <th>team_abbreviation</th>\n",
       "      <th>most_recent_season</th>\n",
       "      <th>box_plus_minus</th>\n",
       "      <th>games_played</th>\n",
       "      <th>games_started</th>\n",
       "      <th>player_efficiency_rating</th>\n",
       "      <th>three_point_percentage</th>\n",
       "      <th>true_shooting_percentage</th>\n",
       "      <th>two_point_attempts</th>\n",
       "      <th>two_point_percentage</th>\n",
       "      <th>two_pointers</th>\n",
       "    </tr>\n",
       "  </thead>\n",
       "  <tbody>\n",
       "    <tr>\n",
       "      <th>0</th>\n",
       "      <td>klebima01</td>\n",
       "      <td>Maxi Kleber</td>\n",
       "      <td>240</td>\n",
       "      <td>1992-01-29</td>\n",
       "      <td>82</td>\n",
       "      <td>Germany</td>\n",
       "      <td>DAL</td>\n",
       "      <td>2019.0</td>\n",
       "      <td>0.3</td>\n",
       "      <td>209.0</td>\n",
       "      <td>75.0</td>\n",
       "      <td>13.4</td>\n",
       "      <td>0.354</td>\n",
       "      <td>0.588</td>\n",
       "      <td>529.0</td>\n",
       "      <td>0.597</td>\n",
       "      <td>316.0</td>\n",
       "    </tr>\n",
       "    <tr>\n",
       "      <th>1</th>\n",
       "      <td>wrighde01</td>\n",
       "      <td>Delon Wright</td>\n",
       "      <td>183</td>\n",
       "      <td>1992-04-26</td>\n",
       "      <td>77</td>\n",
       "      <td>United States of America</td>\n",
       "      <td>DAL</td>\n",
       "      <td>2019.0</td>\n",
       "      <td>2.2</td>\n",
       "      <td>263.0</td>\n",
       "      <td>23.0</td>\n",
       "      <td>16.0</td>\n",
       "      <td>0.345</td>\n",
       "      <td>0.549</td>\n",
       "      <td>1086.0</td>\n",
       "      <td>0.498</td>\n",
       "      <td>541.0</td>\n",
       "    </tr>\n",
       "  </tbody>\n",
       "</table>\n",
       "</div>"
      ],
      "text/plain": [
       "   player_id          name  weight birth_date  height  \\\n",
       "0  klebima01   Maxi Kleber     240 1992-01-29      82   \n",
       "1  wrighde01  Delon Wright     183 1992-04-26      77   \n",
       "\n",
       "                nationality team_abbreviation  most_recent_season  \\\n",
       "0                   Germany               DAL              2019.0   \n",
       "1  United States of America               DAL              2019.0   \n",
       "\n",
       "   box_plus_minus  games_played  games_started  player_efficiency_rating  \\\n",
       "0             0.3         209.0           75.0                      13.4   \n",
       "1             2.2         263.0           23.0                      16.0   \n",
       "\n",
       "   three_point_percentage  true_shooting_percentage  two_point_attempts  \\\n",
       "0                   0.354                     0.588               529.0   \n",
       "1                   0.345                     0.549              1086.0   \n",
       "\n",
       "   two_point_percentage  two_pointers  \n",
       "0                 0.597         316.0  \n",
       "1                 0.498         541.0  "
      ]
     },
     "execution_count": 141,
     "metadata": {},
     "output_type": "execute_result"
    }
   ],
   "source": [
    "players_df = updated_players.loc[:, df.columns]\n",
    "players_df[:2]"
   ]
  },
  {
   "cell_type": "markdown",
   "metadata": {},
   "source": [
    "### Summary"
   ]
  },
  {
   "cell_type": "markdown",
   "metadata": {},
   "source": [
    "Nice job.  You are your pandas stripes."
   ]
  },
  {
   "cell_type": "markdown",
   "metadata": {},
   "source": [
    "### Resources"
   ]
  },
  {
   "cell_type": "markdown",
   "metadata": {},
   "source": [
    "[Sports Reference API](https://sportsreference.readthedocs.io/en/stable/)"
   ]
  },
  {
   "cell_type": "markdown",
   "metadata": {},
   "source": [
    "[Set with Copy Warning](https://www.dataquest.io/blog/settingwithcopywarning/)"
   ]
  }
 ],
 "metadata": {
  "kernelspec": {
   "display_name": "Python 3",
   "language": "python",
   "name": "python3"
  },
  "language_info": {
   "codemirror_mode": {
    "name": "ipython",
    "version": 3
   },
   "file_extension": ".py",
   "mimetype": "text/x-python",
   "name": "python",
   "nbconvert_exporter": "python",
   "pygments_lexer": "ipython3",
   "version": "3.7.4"
  }
 },
 "nbformat": 4,
 "nbformat_minor": 4
}
