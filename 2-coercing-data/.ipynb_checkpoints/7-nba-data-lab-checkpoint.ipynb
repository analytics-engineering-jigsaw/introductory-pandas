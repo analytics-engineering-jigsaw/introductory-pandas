{
 "cells": [
  {
   "cell_type": "markdown",
   "metadata": {},
   "source": [
    "# NBA Data Lab"
   ]
  },
  {
   "cell_type": "code",
   "execution_count": null,
   "metadata": {},
   "outputs": [],
   "source": []
  },
  {
   "cell_type": "markdown",
   "metadata": {},
   "source": [
    "### Loading the data"
   ]
  },
  {
   "cell_type": "code",
   "execution_count": 4,
   "metadata": {},
   "outputs": [],
   "source": [
    "import pandas as pd\n",
    "df = pd.read_csv('./nba_players.csv', index_col = 0)"
   ]
  },
  {
   "cell_type": "code",
   "execution_count": 5,
   "metadata": {},
   "outputs": [
    {
     "data": {
      "text/html": [
       "<div>\n",
       "<style scoped>\n",
       "    .dataframe tbody tr th:only-of-type {\n",
       "        vertical-align: middle;\n",
       "    }\n",
       "\n",
       "    .dataframe tbody tr th {\n",
       "        vertical-align: top;\n",
       "    }\n",
       "\n",
       "    .dataframe thead th {\n",
       "        text-align: right;\n",
       "    }\n",
       "</style>\n",
       "<table border=\"1\" class=\"dataframe\">\n",
       "  <thead>\n",
       "    <tr style=\"text-align: right;\">\n",
       "      <th></th>\n",
       "      <th>player_id</th>\n",
       "      <th>name</th>\n",
       "      <th>weight</th>\n",
       "      <th>birth_date</th>\n",
       "      <th>height</th>\n",
       "      <th>nationality</th>\n",
       "      <th>team_abbreviation</th>\n",
       "      <th>most_recent_season</th>\n",
       "      <th>box_plus_minus</th>\n",
       "      <th>games_played</th>\n",
       "      <th>games_started</th>\n",
       "      <th>player_efficiency_rating</th>\n",
       "      <th>three_point_percentage</th>\n",
       "      <th>true_shooting_percentage</th>\n",
       "      <th>two_point_attempts</th>\n",
       "      <th>two_point_percentage</th>\n",
       "      <th>two_pointers</th>\n",
       "    </tr>\n",
       "  </thead>\n",
       "  <tbody>\n",
       "    <tr>\n",
       "      <th>0</th>\n",
       "      <td>klebima01</td>\n",
       "      <td>Maxi Kleber</td>\n",
       "      <td>240lb</td>\n",
       "      <td>1992-01-29</td>\n",
       "      <td>6-10</td>\n",
       "      <td>Germany</td>\n",
       "      <td>DAL</td>\n",
       "      <td>2018-19</td>\n",
       "      <td>0.3</td>\n",
       "      <td>209.0</td>\n",
       "      <td>75.0</td>\n",
       "      <td>13.4</td>\n",
       "      <td>0.354</td>\n",
       "      <td>0.588</td>\n",
       "      <td>529.0</td>\n",
       "      <td>0.597</td>\n",
       "      <td>316.0</td>\n",
       "    </tr>\n",
       "    <tr>\n",
       "      <th>1</th>\n",
       "      <td>wrighde01</td>\n",
       "      <td>Delon Wright</td>\n",
       "      <td>183lb</td>\n",
       "      <td>1992-04-26</td>\n",
       "      <td>6-5</td>\n",
       "      <td>United States of America</td>\n",
       "      <td>DAL</td>\n",
       "      <td>2018-19</td>\n",
       "      <td>2.2</td>\n",
       "      <td>263.0</td>\n",
       "      <td>23.0</td>\n",
       "      <td>16.0</td>\n",
       "      <td>0.345</td>\n",
       "      <td>0.549</td>\n",
       "      <td>1086.0</td>\n",
       "      <td>0.498</td>\n",
       "      <td>541.0</td>\n",
       "    </tr>\n",
       "  </tbody>\n",
       "</table>\n",
       "</div>"
      ],
      "text/plain": [
       "   player_id          name weight  birth_date height  \\\n",
       "0  klebima01   Maxi Kleber  240lb  1992-01-29   6-10   \n",
       "1  wrighde01  Delon Wright  183lb  1992-04-26    6-5   \n",
       "\n",
       "                nationality team_abbreviation most_recent_season  \\\n",
       "0                   Germany               DAL            2018-19   \n",
       "1  United States of America               DAL            2018-19   \n",
       "\n",
       "   box_plus_minus  games_played  games_started  player_efficiency_rating  \\\n",
       "0             0.3         209.0           75.0                      13.4   \n",
       "1             2.2         263.0           23.0                      16.0   \n",
       "\n",
       "   three_point_percentage  true_shooting_percentage  two_point_attempts  \\\n",
       "0                   0.354                     0.588               529.0   \n",
       "1                   0.345                     0.549              1086.0   \n",
       "\n",
       "   two_point_percentage  two_pointers  \n",
       "0                 0.597         316.0  \n",
       "1                 0.498         541.0  "
      ]
     },
     "execution_count": 5,
     "metadata": {},
     "output_type": "execute_result"
    }
   ],
   "source": [
    "df[:2]"
   ]
  },
  {
   "cell_type": "markdown",
   "metadata": {},
   "source": [
    "* height \n",
    "* weight\n",
    "* birthdate\n",
    "* season"
   ]
  },
  {
   "cell_type": "code",
   "execution_count": null,
   "metadata": {},
   "outputs": [],
   "source": []
  }
 ],
 "metadata": {
  "kernelspec": {
   "display_name": "Python 3",
   "language": "python",
   "name": "python3"
  },
  "language_info": {
   "codemirror_mode": {
    "name": "ipython",
    "version": 3
   },
   "file_extension": ".py",
   "mimetype": "text/x-python",
   "name": "python",
   "nbconvert_exporter": "python",
   "pygments_lexer": "ipython3",
   "version": "3.7.4"
  }
 },
 "nbformat": 4,
 "nbformat_minor": 4
}
